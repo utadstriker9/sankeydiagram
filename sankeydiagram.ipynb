{
 "cells": [
  {
   "cell_type": "code",
   "execution_count": 1,
   "id": "45a5cf91",
   "metadata": {},
   "outputs": [
    {
     "data": {
      "text/html": [
       "        <script type=\"text/javascript\">\n",
       "        window.PlotlyConfig = {MathJaxConfig: 'local'};\n",
       "        if (window.MathJax && window.MathJax.Hub && window.MathJax.Hub.Config) {window.MathJax.Hub.Config({SVG: {font: \"STIX-Web\"}});}\n",
       "        if (typeof require !== 'undefined') {\n",
       "        require.undef(\"plotly\");\n",
       "        requirejs.config({\n",
       "            paths: {\n",
       "                'plotly': ['https://cdn.plot.ly/plotly-2.16.1.min']\n",
       "            }\n",
       "        });\n",
       "        require(['plotly'], function(Plotly) {\n",
       "            window._Plotly = Plotly;\n",
       "        });\n",
       "        }\n",
       "        </script>\n",
       "        "
      ]
     },
     "metadata": {},
     "output_type": "display_data"
    }
   ],
   "source": [
    "# imports\n",
    "import pandas as pd\n",
    "import plotly.graph_objects as go\n",
    "\n",
    "# to make notebook work offline\n",
    "from plotly.offline import iplot, init_notebook_mode\n",
    "init_notebook_mode(connected=True)"
   ]
  },
  {
   "cell_type": "code",
   "execution_count": 2,
   "id": "fc33be1a",
   "metadata": {},
   "outputs": [
    {
     "data": {
      "text/html": [
       "<div>\n",
       "<style scoped>\n",
       "    .dataframe tbody tr th:only-of-type {\n",
       "        vertical-align: middle;\n",
       "    }\n",
       "\n",
       "    .dataframe tbody tr th {\n",
       "        vertical-align: top;\n",
       "    }\n",
       "\n",
       "    .dataframe thead th {\n",
       "        text-align: right;\n",
       "    }\n",
       "</style>\n",
       "<table border=\"1\" class=\"dataframe\">\n",
       "  <thead>\n",
       "    <tr style=\"text-align: right;\">\n",
       "      <th></th>\n",
       "      <th>Row ID</th>\n",
       "      <th>Order Priority</th>\n",
       "      <th>Discount</th>\n",
       "      <th>Unit Price</th>\n",
       "      <th>Shipping Cost</th>\n",
       "      <th>Customer ID</th>\n",
       "      <th>Customer Name</th>\n",
       "      <th>Ship Mode</th>\n",
       "      <th>Customer Segment</th>\n",
       "      <th>Product Category</th>\n",
       "      <th>...</th>\n",
       "      <th>State or Province</th>\n",
       "      <th>City</th>\n",
       "      <th>Postal Code</th>\n",
       "      <th>Order Date</th>\n",
       "      <th>Ship Date</th>\n",
       "      <th>Profit</th>\n",
       "      <th>Quantity ordered new</th>\n",
       "      <th>Sales</th>\n",
       "      <th>Order ID</th>\n",
       "      <th>Link</th>\n",
       "    </tr>\n",
       "  </thead>\n",
       "  <tbody>\n",
       "    <tr>\n",
       "      <th>0</th>\n",
       "      <td>18606</td>\n",
       "      <td>Not Specified</td>\n",
       "      <td>0.01</td>\n",
       "      <td>2.88</td>\n",
       "      <td>0.50</td>\n",
       "      <td>2</td>\n",
       "      <td>Janice Fletcher</td>\n",
       "      <td>Regular Air</td>\n",
       "      <td>Corporate</td>\n",
       "      <td>Office Supplies</td>\n",
       "      <td>...</td>\n",
       "      <td>Illinois</td>\n",
       "      <td>Addison</td>\n",
       "      <td>60101</td>\n",
       "      <td>5/28/2012</td>\n",
       "      <td>5/30/2012</td>\n",
       "      <td>1.320000</td>\n",
       "      <td>2</td>\n",
       "      <td>5.90</td>\n",
       "      <td>88525</td>\n",
       "      <td>Link</td>\n",
       "    </tr>\n",
       "    <tr>\n",
       "      <th>1</th>\n",
       "      <td>20847</td>\n",
       "      <td>High</td>\n",
       "      <td>0.01</td>\n",
       "      <td>2.84</td>\n",
       "      <td>0.93</td>\n",
       "      <td>3</td>\n",
       "      <td>Bonnie Potter</td>\n",
       "      <td>Express Air</td>\n",
       "      <td>Corporate</td>\n",
       "      <td>Office Supplies</td>\n",
       "      <td>...</td>\n",
       "      <td>Washington</td>\n",
       "      <td>Anacortes</td>\n",
       "      <td>98221</td>\n",
       "      <td>7/7/2010</td>\n",
       "      <td>7/8/2010</td>\n",
       "      <td>4.560000</td>\n",
       "      <td>4</td>\n",
       "      <td>13.01</td>\n",
       "      <td>88522</td>\n",
       "      <td>Link</td>\n",
       "    </tr>\n",
       "    <tr>\n",
       "      <th>2</th>\n",
       "      <td>23086</td>\n",
       "      <td>Not Specified</td>\n",
       "      <td>0.03</td>\n",
       "      <td>6.68</td>\n",
       "      <td>6.15</td>\n",
       "      <td>3</td>\n",
       "      <td>Bonnie Potter</td>\n",
       "      <td>Express Air</td>\n",
       "      <td>Corporate</td>\n",
       "      <td>Office Supplies</td>\n",
       "      <td>...</td>\n",
       "      <td>Washington</td>\n",
       "      <td>Anacortes</td>\n",
       "      <td>98221</td>\n",
       "      <td>7/27/2011</td>\n",
       "      <td>7/28/2011</td>\n",
       "      <td>-47.640000</td>\n",
       "      <td>7</td>\n",
       "      <td>49.92</td>\n",
       "      <td>88523</td>\n",
       "      <td>Link</td>\n",
       "    </tr>\n",
       "    <tr>\n",
       "      <th>3</th>\n",
       "      <td>23087</td>\n",
       "      <td>Not Specified</td>\n",
       "      <td>0.01</td>\n",
       "      <td>5.68</td>\n",
       "      <td>3.60</td>\n",
       "      <td>3</td>\n",
       "      <td>Bonnie Potter</td>\n",
       "      <td>Regular Air</td>\n",
       "      <td>Corporate</td>\n",
       "      <td>Office Supplies</td>\n",
       "      <td>...</td>\n",
       "      <td>Washington</td>\n",
       "      <td>Anacortes</td>\n",
       "      <td>98221</td>\n",
       "      <td>7/27/2011</td>\n",
       "      <td>7/28/2011</td>\n",
       "      <td>-30.510000</td>\n",
       "      <td>7</td>\n",
       "      <td>41.64</td>\n",
       "      <td>88523</td>\n",
       "      <td>Link</td>\n",
       "    </tr>\n",
       "    <tr>\n",
       "      <th>4</th>\n",
       "      <td>23088</td>\n",
       "      <td>Not Specified</td>\n",
       "      <td>0.00</td>\n",
       "      <td>205.99</td>\n",
       "      <td>2.50</td>\n",
       "      <td>3</td>\n",
       "      <td>Bonnie Potter</td>\n",
       "      <td>Express Air</td>\n",
       "      <td>Corporate</td>\n",
       "      <td>Technology</td>\n",
       "      <td>...</td>\n",
       "      <td>Washington</td>\n",
       "      <td>Anacortes</td>\n",
       "      <td>98221</td>\n",
       "      <td>7/27/2011</td>\n",
       "      <td>7/27/2011</td>\n",
       "      <td>998.202300</td>\n",
       "      <td>8</td>\n",
       "      <td>1446.67</td>\n",
       "      <td>88523</td>\n",
       "      <td>Link</td>\n",
       "    </tr>\n",
       "    <tr>\n",
       "      <th>...</th>\n",
       "      <td>...</td>\n",
       "      <td>...</td>\n",
       "      <td>...</td>\n",
       "      <td>...</td>\n",
       "      <td>...</td>\n",
       "      <td>...</td>\n",
       "      <td>...</td>\n",
       "      <td>...</td>\n",
       "      <td>...</td>\n",
       "      <td>...</td>\n",
       "      <td>...</td>\n",
       "      <td>...</td>\n",
       "      <td>...</td>\n",
       "      <td>...</td>\n",
       "      <td>...</td>\n",
       "      <td>...</td>\n",
       "      <td>...</td>\n",
       "      <td>...</td>\n",
       "      <td>...</td>\n",
       "      <td>...</td>\n",
       "      <td>...</td>\n",
       "    </tr>\n",
       "    <tr>\n",
       "      <th>9421</th>\n",
       "      <td>20275</td>\n",
       "      <td>Critical</td>\n",
       "      <td>0.06</td>\n",
       "      <td>35.89</td>\n",
       "      <td>14.72</td>\n",
       "      <td>3402</td>\n",
       "      <td>Frederick Cole</td>\n",
       "      <td>Regular Air</td>\n",
       "      <td>Consumer</td>\n",
       "      <td>Office Supplies</td>\n",
       "      <td>...</td>\n",
       "      <td>West Virginia</td>\n",
       "      <td>Charleston</td>\n",
       "      <td>25314</td>\n",
       "      <td>5/14/2013</td>\n",
       "      <td>5/15/2013</td>\n",
       "      <td>137.860000</td>\n",
       "      <td>13</td>\n",
       "      <td>447.87</td>\n",
       "      <td>87532</td>\n",
       "      <td>Link</td>\n",
       "    </tr>\n",
       "    <tr>\n",
       "      <th>9422</th>\n",
       "      <td>20276</td>\n",
       "      <td>Critical</td>\n",
       "      <td>0.00</td>\n",
       "      <td>3.34</td>\n",
       "      <td>7.49</td>\n",
       "      <td>3402</td>\n",
       "      <td>Frederick Cole</td>\n",
       "      <td>Regular Air</td>\n",
       "      <td>Consumer</td>\n",
       "      <td>Office Supplies</td>\n",
       "      <td>...</td>\n",
       "      <td>West Virginia</td>\n",
       "      <td>Charleston</td>\n",
       "      <td>25314</td>\n",
       "      <td>5/14/2013</td>\n",
       "      <td>5/14/2013</td>\n",
       "      <td>-39.070000</td>\n",
       "      <td>3</td>\n",
       "      <td>13.23</td>\n",
       "      <td>87532</td>\n",
       "      <td>Link</td>\n",
       "    </tr>\n",
       "    <tr>\n",
       "      <th>9423</th>\n",
       "      <td>24491</td>\n",
       "      <td>Not Specified</td>\n",
       "      <td>0.08</td>\n",
       "      <td>550.98</td>\n",
       "      <td>45.70</td>\n",
       "      <td>3402</td>\n",
       "      <td>Frederick Cole</td>\n",
       "      <td>Delivery Truck</td>\n",
       "      <td>Consumer</td>\n",
       "      <td>Furniture</td>\n",
       "      <td>...</td>\n",
       "      <td>West Virginia</td>\n",
       "      <td>Charleston</td>\n",
       "      <td>25314</td>\n",
       "      <td>9/12/2013</td>\n",
       "      <td>9/14/2013</td>\n",
       "      <td>-1225.029097</td>\n",
       "      <td>4</td>\n",
       "      <td>2215.93</td>\n",
       "      <td>87533</td>\n",
       "      <td>Link</td>\n",
       "    </tr>\n",
       "    <tr>\n",
       "      <th>9424</th>\n",
       "      <td>25914</td>\n",
       "      <td>High</td>\n",
       "      <td>0.10</td>\n",
       "      <td>105.98</td>\n",
       "      <td>13.99</td>\n",
       "      <td>3403</td>\n",
       "      <td>Tammy Buckley</td>\n",
       "      <td>Express Air</td>\n",
       "      <td>Consumer</td>\n",
       "      <td>Furniture</td>\n",
       "      <td>...</td>\n",
       "      <td>Wyoming</td>\n",
       "      <td>Cheyenne</td>\n",
       "      <td>82001</td>\n",
       "      <td>2/8/2010</td>\n",
       "      <td>2/11/2010</td>\n",
       "      <td>349.485000</td>\n",
       "      <td>5</td>\n",
       "      <td>506.50</td>\n",
       "      <td>87530</td>\n",
       "      <td>Link</td>\n",
       "    </tr>\n",
       "    <tr>\n",
       "      <th>9425</th>\n",
       "      <td>24492</td>\n",
       "      <td>Not Specified</td>\n",
       "      <td>0.09</td>\n",
       "      <td>7.78</td>\n",
       "      <td>2.50</td>\n",
       "      <td>3403</td>\n",
       "      <td>Tammy Buckley</td>\n",
       "      <td>Express Air</td>\n",
       "      <td>Consumer</td>\n",
       "      <td>Office Supplies</td>\n",
       "      <td>...</td>\n",
       "      <td>Wyoming</td>\n",
       "      <td>Cheyenne</td>\n",
       "      <td>82001</td>\n",
       "      <td>9/12/2013</td>\n",
       "      <td>9/14/2013</td>\n",
       "      <td>78.062400</td>\n",
       "      <td>23</td>\n",
       "      <td>172.48</td>\n",
       "      <td>87533</td>\n",
       "      <td>Link</td>\n",
       "    </tr>\n",
       "  </tbody>\n",
       "</table>\n",
       "<p>9426 rows × 25 columns</p>\n",
       "</div>"
      ],
      "text/plain": [
       "      Row ID Order Priority  Discount  Unit Price  Shipping Cost  Customer ID  \\\n",
       "0      18606  Not Specified      0.01        2.88           0.50            2   \n",
       "1      20847           High      0.01        2.84           0.93            3   \n",
       "2      23086  Not Specified      0.03        6.68           6.15            3   \n",
       "3      23087  Not Specified      0.01        5.68           3.60            3   \n",
       "4      23088  Not Specified      0.00      205.99           2.50            3   \n",
       "...      ...            ...       ...         ...            ...          ...   \n",
       "9421   20275       Critical      0.06       35.89          14.72         3402   \n",
       "9422   20276       Critical      0.00        3.34           7.49         3402   \n",
       "9423   24491  Not Specified      0.08      550.98          45.70         3402   \n",
       "9424   25914           High      0.10      105.98          13.99         3403   \n",
       "9425   24492  Not Specified      0.09        7.78           2.50         3403   \n",
       "\n",
       "        Customer Name       Ship Mode Customer Segment Product Category  ...  \\\n",
       "0     Janice Fletcher     Regular Air        Corporate  Office Supplies  ...   \n",
       "1       Bonnie Potter     Express Air        Corporate  Office Supplies  ...   \n",
       "2       Bonnie Potter     Express Air        Corporate  Office Supplies  ...   \n",
       "3       Bonnie Potter     Regular Air        Corporate  Office Supplies  ...   \n",
       "4       Bonnie Potter     Express Air        Corporate       Technology  ...   \n",
       "...               ...             ...              ...              ...  ...   \n",
       "9421   Frederick Cole     Regular Air         Consumer  Office Supplies  ...   \n",
       "9422   Frederick Cole     Regular Air         Consumer  Office Supplies  ...   \n",
       "9423   Frederick Cole  Delivery Truck         Consumer        Furniture  ...   \n",
       "9424    Tammy Buckley     Express Air         Consumer        Furniture  ...   \n",
       "9425    Tammy Buckley     Express Air         Consumer  Office Supplies  ...   \n",
       "\n",
       "     State or Province        City Postal Code  Order Date  Ship Date  \\\n",
       "0             Illinois     Addison       60101   5/28/2012  5/30/2012   \n",
       "1           Washington   Anacortes       98221    7/7/2010   7/8/2010   \n",
       "2           Washington   Anacortes       98221   7/27/2011  7/28/2011   \n",
       "3           Washington   Anacortes       98221   7/27/2011  7/28/2011   \n",
       "4           Washington   Anacortes       98221   7/27/2011  7/27/2011   \n",
       "...                ...         ...         ...         ...        ...   \n",
       "9421     West Virginia  Charleston       25314   5/14/2013  5/15/2013   \n",
       "9422     West Virginia  Charleston       25314   5/14/2013  5/14/2013   \n",
       "9423     West Virginia  Charleston       25314   9/12/2013  9/14/2013   \n",
       "9424           Wyoming    Cheyenne       82001    2/8/2010  2/11/2010   \n",
       "9425           Wyoming    Cheyenne       82001   9/12/2013  9/14/2013   \n",
       "\n",
       "           Profit Quantity ordered new    Sales Order ID  Link  \n",
       "0        1.320000                    2     5.90    88525  Link  \n",
       "1        4.560000                    4    13.01    88522  Link  \n",
       "2      -47.640000                    7    49.92    88523  Link  \n",
       "3      -30.510000                    7    41.64    88523  Link  \n",
       "4      998.202300                    8  1446.67    88523  Link  \n",
       "...           ...                  ...      ...      ...   ...  \n",
       "9421   137.860000                   13   447.87    87532  Link  \n",
       "9422   -39.070000                    3    13.23    87532  Link  \n",
       "9423 -1225.029097                    4  2215.93    87533  Link  \n",
       "9424   349.485000                    5   506.50    87530  Link  \n",
       "9425    78.062400                   23   172.48    87533  Link  \n",
       "\n",
       "[9426 rows x 25 columns]"
      ]
     },
     "execution_count": 2,
     "metadata": {},
     "output_type": "execute_result"
    }
   ],
   "source": [
    "df = pd.read_csv('Superstore Decision Tree Data.csv')\n",
    "df"
   ]
  },
  {
   "cell_type": "code",
   "execution_count": 10,
   "id": "c81cc8d3",
   "metadata": {},
   "outputs": [
    {
     "data": {
      "text/plain": [
       "Row ID                    int64\n",
       "Order Priority           object\n",
       "Discount                float64\n",
       "Unit Price              float64\n",
       "Shipping Cost           float64\n",
       "Customer ID               int64\n",
       "Customer Name            object\n",
       "Ship Mode                object\n",
       "Customer Segment         object\n",
       "Product Category         object\n",
       "Product Sub-Category     object\n",
       "Product Container        object\n",
       "Product Name             object\n",
       "Product Base Margin     float64\n",
       "Region                   object\n",
       "State or Province        object\n",
       "City                     object\n",
       "Postal Code               int64\n",
       "Order Date               object\n",
       "Ship Date                object\n",
       "Profit                  float64\n",
       "Quantity ordered new      int64\n",
       "Sales                   float64\n",
       "Order ID                  int64\n",
       "Link                     object\n",
       "dtype: object"
      ]
     },
     "execution_count": 10,
     "metadata": {},
     "output_type": "execute_result"
    }
   ],
   "source": [
    "df.dtypes"
   ]
  },
  {
   "cell_type": "code",
   "execution_count": 3,
   "id": "b690a994",
   "metadata": {},
   "outputs": [],
   "source": [
    "# Helper function to transform regular data to sankey format\n",
    "# Returns data and layout as dictionary\n",
    "def genSankey(df,cat_cols=[],value_cols='',title='Sankey Diagram'):\n",
    "    # maximum of 6 value cols -> 6 colors\n",
    "    colorPalette = ['#4B8BBE','#306998','#FFE873','#FFD43B','#646464']\n",
    "    labelList = []\n",
    "    colorNumList = []\n",
    "    for catCol in cat_cols:\n",
    "        labelListTemp =  list(set(df[catCol].values))\n",
    "        colorNumList.append(len(labelListTemp))\n",
    "        labelList = labelList + labelListTemp\n",
    "        \n",
    "    # remove duplicates from labelList\n",
    "    labelList = list(dict.fromkeys(labelList))\n",
    "    \n",
    "    # define colors based on number of levels\n",
    "    colorList = []\n",
    "    for idx, colorNum in enumerate(colorNumList):\n",
    "        colorList = colorList + [colorPalette[idx]]*colorNum\n",
    "        \n",
    "    # transform df into a source-target pair\n",
    "    for i in range(len(cat_cols)-1):\n",
    "        if i==0:\n",
    "            sourceTargetDf = df[[cat_cols[i],cat_cols[i+1],value_cols]]\n",
    "            sourceTargetDf.columns = ['source','target','count']\n",
    "        else:\n",
    "            tempDf = df[[cat_cols[i],cat_cols[i+1],value_cols]]\n",
    "            tempDf.columns = ['source','target','count']\n",
    "            sourceTargetDf = pd.concat([sourceTargetDf,tempDf])\n",
    "        sourceTargetDf = sourceTargetDf.groupby(['source','target']).agg({'count':'sum'}).reset_index()\n",
    "        \n",
    "    # add index for source-target pair\n",
    "    sourceTargetDf['sourceID'] = sourceTargetDf['source'].apply(lambda x: labelList.index(x))\n",
    "    sourceTargetDf['targetID'] = sourceTargetDf['target'].apply(lambda x: labelList.index(x))\n",
    "    \n",
    "    # creating the sankey diagram\n",
    "    data = dict(\n",
    "        type='sankey',\n",
    "        node = dict(\n",
    "          pad = 15,\n",
    "          thickness = 20,\n",
    "          line = dict(\n",
    "            color = \"black\",\n",
    "            width = 0.5\n",
    "          ),\n",
    "          label = labelList,\n",
    "          color = colorList\n",
    "        ),\n",
    "        link = dict(\n",
    "          source = sourceTargetDf['sourceID'],\n",
    "          target = sourceTargetDf['targetID'],\n",
    "          value = sourceTargetDf['count']\n",
    "        )\n",
    "      )\n",
    "    \n",
    "    layout =  dict(\n",
    "        title = title,\n",
    "        font = dict(\n",
    "          size = 10\n",
    "        )\n",
    "    )\n",
    "       \n",
    "    fig = dict(data=[data], layout=layout)\n",
    "    return fig"
   ]
  },
  {
   "cell_type": "code",
   "execution_count": 13,
   "id": "29e90a3a",
   "metadata": {},
   "outputs": [
    {
     "data": {
      "application/vnd.plotly.v1+json": {
       "config": {
        "plotlyServerURL": "https://plot.ly"
       },
       "data": [
        {
         "link": {
          "source": [
           4,
           4,
           4,
           2,
           2,
           2,
           2,
           0,
           0,
           0,
           0,
           7,
           7,
           7,
           9,
           9,
           9,
           9,
           3,
           3,
           3,
           3,
           8,
           8,
           8,
           8,
           8,
           8,
           8,
           8,
           8,
           1,
           1,
           1,
           1,
           5,
           5,
           5,
           10,
           10,
           10,
           10,
           6,
           6,
           6
          ],
          "target": [
           9,
           8,
           10,
           4,
           7,
           5,
           6,
           4,
           7,
           5,
           6,
           9,
           8,
           10,
           25,
           22,
           24,
           19,
           4,
           7,
           5,
           6,
           26,
           20,
           11,
           17,
           12,
           16,
           23,
           27,
           14,
           4,
           7,
           5,
           6,
           9,
           8,
           10,
           15,
           21,
           13,
           18,
           9,
           8,
           10
          ],
          "value": [
           859217.62,
           672768.64,
           1008355.36,
           404291.71,
           480805.05,
           329780.37,
           620338.09,
           1042483.12,
           818102.47,
           569904.41,
           838901.07,
           864063.26,
           711438.58,
           847302.84,
           507494.49,
           1164584.16,
           444624.03,
           1061921.06,
           709259.23,
           506332.02,
           427009.69,
           526351.09,
           456723.08,
           638582.09,
           147921.03,
           23449.9,
           253600.31,
           103251.59,
           8663.77,
           40428.87,
           585704.91,
           384307.56,
           617565.14,
           270651.75,
           405848.55,
           546261.1,
           373950.53,
           677134.59,
           490840.53,
           661211.93,
           1218656.59,
           1144272.98,
           909081.76,
           500167.8,
           982189.24
          ]
         },
         "node": {
          "color": [
           "#4B8BBE",
           "#4B8BBE",
           "#4B8BBE",
           "#4B8BBE",
           "#306998",
           "#306998",
           "#306998",
           "#306998",
           "#FFE873",
           "#FFE873",
           "#FFE873",
           "#FFD43B",
           "#FFD43B",
           "#FFD43B",
           "#FFD43B",
           "#FFD43B",
           "#FFD43B",
           "#FFD43B",
           "#FFD43B",
           "#FFD43B",
           "#FFD43B",
           "#FFD43B",
           "#FFD43B",
           "#FFD43B",
           "#FFD43B",
           "#FFD43B",
           "#FFD43B",
           "#FFD43B"
          ],
          "label": [
           "Corporate",
           "Small Business",
           "Consumer",
           "Home Office",
           "Central",
           "South",
           "West",
           "East",
           "Office Supplies",
           "Furniture",
           "Technology",
           "Envelopes",
           "Paper",
           "Office Machines",
           "Storage & Organization",
           "Computer Peripherals",
           "Pens & Art Supplies",
           "Labels",
           "Telephones and Communication",
           "Tables",
           "Binders and Binder Accessories",
           "Copiers and Fax",
           "Chairs & Chairmats",
           "Rubber Bands",
           "Office Furnishings",
           "Bookcases",
           "Appliances",
           "Scissors, Rulers and Trimmers"
          ],
          "line": {
           "color": "black",
           "width": 0.5
          },
          "pad": 15,
          "thickness": 20
         },
         "type": "sankey"
        }
       ],
       "layout": {
        "font": {
         "size": 10
        },
        "template": {
         "data": {
          "bar": [
           {
            "error_x": {
             "color": "#2a3f5f"
            },
            "error_y": {
             "color": "#2a3f5f"
            },
            "marker": {
             "line": {
              "color": "#E5ECF6",
              "width": 0.5
             },
             "pattern": {
              "fillmode": "overlay",
              "size": 10,
              "solidity": 0.2
             }
            },
            "type": "bar"
           }
          ],
          "barpolar": [
           {
            "marker": {
             "line": {
              "color": "#E5ECF6",
              "width": 0.5
             },
             "pattern": {
              "fillmode": "overlay",
              "size": 10,
              "solidity": 0.2
             }
            },
            "type": "barpolar"
           }
          ],
          "carpet": [
           {
            "aaxis": {
             "endlinecolor": "#2a3f5f",
             "gridcolor": "white",
             "linecolor": "white",
             "minorgridcolor": "white",
             "startlinecolor": "#2a3f5f"
            },
            "baxis": {
             "endlinecolor": "#2a3f5f",
             "gridcolor": "white",
             "linecolor": "white",
             "minorgridcolor": "white",
             "startlinecolor": "#2a3f5f"
            },
            "type": "carpet"
           }
          ],
          "choropleth": [
           {
            "colorbar": {
             "outlinewidth": 0,
             "ticks": ""
            },
            "type": "choropleth"
           }
          ],
          "contour": [
           {
            "colorbar": {
             "outlinewidth": 0,
             "ticks": ""
            },
            "colorscale": [
             [
              0,
              "#0d0887"
             ],
             [
              0.1111111111111111,
              "#46039f"
             ],
             [
              0.2222222222222222,
              "#7201a8"
             ],
             [
              0.3333333333333333,
              "#9c179e"
             ],
             [
              0.4444444444444444,
              "#bd3786"
             ],
             [
              0.5555555555555556,
              "#d8576b"
             ],
             [
              0.6666666666666666,
              "#ed7953"
             ],
             [
              0.7777777777777778,
              "#fb9f3a"
             ],
             [
              0.8888888888888888,
              "#fdca26"
             ],
             [
              1,
              "#f0f921"
             ]
            ],
            "type": "contour"
           }
          ],
          "contourcarpet": [
           {
            "colorbar": {
             "outlinewidth": 0,
             "ticks": ""
            },
            "type": "contourcarpet"
           }
          ],
          "heatmap": [
           {
            "colorbar": {
             "outlinewidth": 0,
             "ticks": ""
            },
            "colorscale": [
             [
              0,
              "#0d0887"
             ],
             [
              0.1111111111111111,
              "#46039f"
             ],
             [
              0.2222222222222222,
              "#7201a8"
             ],
             [
              0.3333333333333333,
              "#9c179e"
             ],
             [
              0.4444444444444444,
              "#bd3786"
             ],
             [
              0.5555555555555556,
              "#d8576b"
             ],
             [
              0.6666666666666666,
              "#ed7953"
             ],
             [
              0.7777777777777778,
              "#fb9f3a"
             ],
             [
              0.8888888888888888,
              "#fdca26"
             ],
             [
              1,
              "#f0f921"
             ]
            ],
            "type": "heatmap"
           }
          ],
          "heatmapgl": [
           {
            "colorbar": {
             "outlinewidth": 0,
             "ticks": ""
            },
            "colorscale": [
             [
              0,
              "#0d0887"
             ],
             [
              0.1111111111111111,
              "#46039f"
             ],
             [
              0.2222222222222222,
              "#7201a8"
             ],
             [
              0.3333333333333333,
              "#9c179e"
             ],
             [
              0.4444444444444444,
              "#bd3786"
             ],
             [
              0.5555555555555556,
              "#d8576b"
             ],
             [
              0.6666666666666666,
              "#ed7953"
             ],
             [
              0.7777777777777778,
              "#fb9f3a"
             ],
             [
              0.8888888888888888,
              "#fdca26"
             ],
             [
              1,
              "#f0f921"
             ]
            ],
            "type": "heatmapgl"
           }
          ],
          "histogram": [
           {
            "marker": {
             "pattern": {
              "fillmode": "overlay",
              "size": 10,
              "solidity": 0.2
             }
            },
            "type": "histogram"
           }
          ],
          "histogram2d": [
           {
            "colorbar": {
             "outlinewidth": 0,
             "ticks": ""
            },
            "colorscale": [
             [
              0,
              "#0d0887"
             ],
             [
              0.1111111111111111,
              "#46039f"
             ],
             [
              0.2222222222222222,
              "#7201a8"
             ],
             [
              0.3333333333333333,
              "#9c179e"
             ],
             [
              0.4444444444444444,
              "#bd3786"
             ],
             [
              0.5555555555555556,
              "#d8576b"
             ],
             [
              0.6666666666666666,
              "#ed7953"
             ],
             [
              0.7777777777777778,
              "#fb9f3a"
             ],
             [
              0.8888888888888888,
              "#fdca26"
             ],
             [
              1,
              "#f0f921"
             ]
            ],
            "type": "histogram2d"
           }
          ],
          "histogram2dcontour": [
           {
            "colorbar": {
             "outlinewidth": 0,
             "ticks": ""
            },
            "colorscale": [
             [
              0,
              "#0d0887"
             ],
             [
              0.1111111111111111,
              "#46039f"
             ],
             [
              0.2222222222222222,
              "#7201a8"
             ],
             [
              0.3333333333333333,
              "#9c179e"
             ],
             [
              0.4444444444444444,
              "#bd3786"
             ],
             [
              0.5555555555555556,
              "#d8576b"
             ],
             [
              0.6666666666666666,
              "#ed7953"
             ],
             [
              0.7777777777777778,
              "#fb9f3a"
             ],
             [
              0.8888888888888888,
              "#fdca26"
             ],
             [
              1,
              "#f0f921"
             ]
            ],
            "type": "histogram2dcontour"
           }
          ],
          "mesh3d": [
           {
            "colorbar": {
             "outlinewidth": 0,
             "ticks": ""
            },
            "type": "mesh3d"
           }
          ],
          "parcoords": [
           {
            "line": {
             "colorbar": {
              "outlinewidth": 0,
              "ticks": ""
             }
            },
            "type": "parcoords"
           }
          ],
          "pie": [
           {
            "automargin": true,
            "type": "pie"
           }
          ],
          "scatter": [
           {
            "fillpattern": {
             "fillmode": "overlay",
             "size": 10,
             "solidity": 0.2
            },
            "type": "scatter"
           }
          ],
          "scatter3d": [
           {
            "line": {
             "colorbar": {
              "outlinewidth": 0,
              "ticks": ""
             }
            },
            "marker": {
             "colorbar": {
              "outlinewidth": 0,
              "ticks": ""
             }
            },
            "type": "scatter3d"
           }
          ],
          "scattercarpet": [
           {
            "marker": {
             "colorbar": {
              "outlinewidth": 0,
              "ticks": ""
             }
            },
            "type": "scattercarpet"
           }
          ],
          "scattergeo": [
           {
            "marker": {
             "colorbar": {
              "outlinewidth": 0,
              "ticks": ""
             }
            },
            "type": "scattergeo"
           }
          ],
          "scattergl": [
           {
            "marker": {
             "colorbar": {
              "outlinewidth": 0,
              "ticks": ""
             }
            },
            "type": "scattergl"
           }
          ],
          "scattermapbox": [
           {
            "marker": {
             "colorbar": {
              "outlinewidth": 0,
              "ticks": ""
             }
            },
            "type": "scattermapbox"
           }
          ],
          "scatterpolar": [
           {
            "marker": {
             "colorbar": {
              "outlinewidth": 0,
              "ticks": ""
             }
            },
            "type": "scatterpolar"
           }
          ],
          "scatterpolargl": [
           {
            "marker": {
             "colorbar": {
              "outlinewidth": 0,
              "ticks": ""
             }
            },
            "type": "scatterpolargl"
           }
          ],
          "scatterternary": [
           {
            "marker": {
             "colorbar": {
              "outlinewidth": 0,
              "ticks": ""
             }
            },
            "type": "scatterternary"
           }
          ],
          "surface": [
           {
            "colorbar": {
             "outlinewidth": 0,
             "ticks": ""
            },
            "colorscale": [
             [
              0,
              "#0d0887"
             ],
             [
              0.1111111111111111,
              "#46039f"
             ],
             [
              0.2222222222222222,
              "#7201a8"
             ],
             [
              0.3333333333333333,
              "#9c179e"
             ],
             [
              0.4444444444444444,
              "#bd3786"
             ],
             [
              0.5555555555555556,
              "#d8576b"
             ],
             [
              0.6666666666666666,
              "#ed7953"
             ],
             [
              0.7777777777777778,
              "#fb9f3a"
             ],
             [
              0.8888888888888888,
              "#fdca26"
             ],
             [
              1,
              "#f0f921"
             ]
            ],
            "type": "surface"
           }
          ],
          "table": [
           {
            "cells": {
             "fill": {
              "color": "#EBF0F8"
             },
             "line": {
              "color": "white"
             }
            },
            "header": {
             "fill": {
              "color": "#C8D4E3"
             },
             "line": {
              "color": "white"
             }
            },
            "type": "table"
           }
          ]
         },
         "layout": {
          "annotationdefaults": {
           "arrowcolor": "#2a3f5f",
           "arrowhead": 0,
           "arrowwidth": 1
          },
          "autotypenumbers": "strict",
          "coloraxis": {
           "colorbar": {
            "outlinewidth": 0,
            "ticks": ""
           }
          },
          "colorscale": {
           "diverging": [
            [
             0,
             "#8e0152"
            ],
            [
             0.1,
             "#c51b7d"
            ],
            [
             0.2,
             "#de77ae"
            ],
            [
             0.3,
             "#f1b6da"
            ],
            [
             0.4,
             "#fde0ef"
            ],
            [
             0.5,
             "#f7f7f7"
            ],
            [
             0.6,
             "#e6f5d0"
            ],
            [
             0.7,
             "#b8e186"
            ],
            [
             0.8,
             "#7fbc41"
            ],
            [
             0.9,
             "#4d9221"
            ],
            [
             1,
             "#276419"
            ]
           ],
           "sequential": [
            [
             0,
             "#0d0887"
            ],
            [
             0.1111111111111111,
             "#46039f"
            ],
            [
             0.2222222222222222,
             "#7201a8"
            ],
            [
             0.3333333333333333,
             "#9c179e"
            ],
            [
             0.4444444444444444,
             "#bd3786"
            ],
            [
             0.5555555555555556,
             "#d8576b"
            ],
            [
             0.6666666666666666,
             "#ed7953"
            ],
            [
             0.7777777777777778,
             "#fb9f3a"
            ],
            [
             0.8888888888888888,
             "#fdca26"
            ],
            [
             1,
             "#f0f921"
            ]
           ],
           "sequentialminus": [
            [
             0,
             "#0d0887"
            ],
            [
             0.1111111111111111,
             "#46039f"
            ],
            [
             0.2222222222222222,
             "#7201a8"
            ],
            [
             0.3333333333333333,
             "#9c179e"
            ],
            [
             0.4444444444444444,
             "#bd3786"
            ],
            [
             0.5555555555555556,
             "#d8576b"
            ],
            [
             0.6666666666666666,
             "#ed7953"
            ],
            [
             0.7777777777777778,
             "#fb9f3a"
            ],
            [
             0.8888888888888888,
             "#fdca26"
            ],
            [
             1,
             "#f0f921"
            ]
           ]
          },
          "colorway": [
           "#636efa",
           "#EF553B",
           "#00cc96",
           "#ab63fa",
           "#FFA15A",
           "#19d3f3",
           "#FF6692",
           "#B6E880",
           "#FF97FF",
           "#FECB52"
          ],
          "font": {
           "color": "#2a3f5f"
          },
          "geo": {
           "bgcolor": "white",
           "lakecolor": "white",
           "landcolor": "#E5ECF6",
           "showlakes": true,
           "showland": true,
           "subunitcolor": "white"
          },
          "hoverlabel": {
           "align": "left"
          },
          "hovermode": "closest",
          "mapbox": {
           "style": "light"
          },
          "paper_bgcolor": "white",
          "plot_bgcolor": "#E5ECF6",
          "polar": {
           "angularaxis": {
            "gridcolor": "white",
            "linecolor": "white",
            "ticks": ""
           },
           "bgcolor": "#E5ECF6",
           "radialaxis": {
            "gridcolor": "white",
            "linecolor": "white",
            "ticks": ""
           }
          },
          "scene": {
           "xaxis": {
            "backgroundcolor": "#E5ECF6",
            "gridcolor": "white",
            "gridwidth": 2,
            "linecolor": "white",
            "showbackground": true,
            "ticks": "",
            "zerolinecolor": "white"
           },
           "yaxis": {
            "backgroundcolor": "#E5ECF6",
            "gridcolor": "white",
            "gridwidth": 2,
            "linecolor": "white",
            "showbackground": true,
            "ticks": "",
            "zerolinecolor": "white"
           },
           "zaxis": {
            "backgroundcolor": "#E5ECF6",
            "gridcolor": "white",
            "gridwidth": 2,
            "linecolor": "white",
            "showbackground": true,
            "ticks": "",
            "zerolinecolor": "white"
           }
          },
          "shapedefaults": {
           "line": {
            "color": "#2a3f5f"
           }
          },
          "ternary": {
           "aaxis": {
            "gridcolor": "white",
            "linecolor": "white",
            "ticks": ""
           },
           "baxis": {
            "gridcolor": "white",
            "linecolor": "white",
            "ticks": ""
           },
           "bgcolor": "#E5ECF6",
           "caxis": {
            "gridcolor": "white",
            "linecolor": "white",
            "ticks": ""
           }
          },
          "title": {
           "x": 0.05
          },
          "xaxis": {
           "automargin": true,
           "gridcolor": "white",
           "linecolor": "white",
           "ticks": "",
           "title": {
            "standoff": 15
           },
           "zerolinecolor": "white",
           "zerolinewidth": 2
          },
          "yaxis": {
           "automargin": true,
           "gridcolor": "white",
           "linecolor": "white",
           "ticks": "",
           "title": {
            "standoff": 15
           },
           "zerolinecolor": "white",
           "zerolinewidth": 2
          }
         }
        },
        "title": {
         "text": "Sales Performances"
        }
       }
      },
      "text/html": [
       "<div>                            <div id=\"f8442a8d-40ad-45bb-a08f-5b07c7d596ea\" class=\"plotly-graph-div\" style=\"height:525px; width:100%;\"></div>            <script type=\"text/javascript\">                require([\"plotly\"], function(Plotly) {                    window.PLOTLYENV=window.PLOTLYENV || {};                                    if (document.getElementById(\"f8442a8d-40ad-45bb-a08f-5b07c7d596ea\")) {                    Plotly.newPlot(                        \"f8442a8d-40ad-45bb-a08f-5b07c7d596ea\",                        [{\"link\":{\"source\":[4,4,4,2,2,2,2,0,0,0,0,7,7,7,9,9,9,9,3,3,3,3,8,8,8,8,8,8,8,8,8,1,1,1,1,5,5,5,10,10,10,10,6,6,6],\"target\":[9,8,10,4,7,5,6,4,7,5,6,9,8,10,25,22,24,19,4,7,5,6,26,20,11,17,12,16,23,27,14,4,7,5,6,9,8,10,15,21,13,18,9,8,10],\"value\":[859217.62,672768.64,1008355.36,404291.71,480805.05,329780.37,620338.09,1042483.12,818102.47,569904.41,838901.07,864063.26,711438.58,847302.84,507494.49,1164584.16,444624.03,1061921.06,709259.23,506332.02,427009.69,526351.09,456723.08,638582.09,147921.03,23449.9,253600.31,103251.59,8663.77,40428.87,585704.91,384307.56,617565.14,270651.75,405848.55,546261.1,373950.53,677134.59,490840.53,661211.93,1218656.59,1144272.98,909081.76,500167.8,982189.24]},\"node\":{\"color\":[\"#4B8BBE\",\"#4B8BBE\",\"#4B8BBE\",\"#4B8BBE\",\"#306998\",\"#306998\",\"#306998\",\"#306998\",\"#FFE873\",\"#FFE873\",\"#FFE873\",\"#FFD43B\",\"#FFD43B\",\"#FFD43B\",\"#FFD43B\",\"#FFD43B\",\"#FFD43B\",\"#FFD43B\",\"#FFD43B\",\"#FFD43B\",\"#FFD43B\",\"#FFD43B\",\"#FFD43B\",\"#FFD43B\",\"#FFD43B\",\"#FFD43B\",\"#FFD43B\",\"#FFD43B\"],\"label\":[\"Corporate\",\"Small Business\",\"Consumer\",\"Home Office\",\"Central\",\"South\",\"West\",\"East\",\"Office Supplies\",\"Furniture\",\"Technology\",\"Envelopes\",\"Paper\",\"Office Machines\",\"Storage & Organization\",\"Computer Peripherals\",\"Pens & Art Supplies\",\"Labels\",\"Telephones and Communication\",\"Tables\",\"Binders and Binder Accessories\",\"Copiers and Fax\",\"Chairs & Chairmats\",\"Rubber Bands\",\"Office Furnishings\",\"Bookcases\",\"Appliances\",\"Scissors, Rulers and Trimmers\"],\"line\":{\"color\":\"black\",\"width\":0.5},\"pad\":15,\"thickness\":20},\"type\":\"sankey\"}],                        {\"font\":{\"size\":10},\"title\":{\"text\":\"Sales Performances\"},\"template\":{\"data\":{\"histogram2dcontour\":[{\"type\":\"histogram2dcontour\",\"colorbar\":{\"outlinewidth\":0,\"ticks\":\"\"},\"colorscale\":[[0.0,\"#0d0887\"],[0.1111111111111111,\"#46039f\"],[0.2222222222222222,\"#7201a8\"],[0.3333333333333333,\"#9c179e\"],[0.4444444444444444,\"#bd3786\"],[0.5555555555555556,\"#d8576b\"],[0.6666666666666666,\"#ed7953\"],[0.7777777777777778,\"#fb9f3a\"],[0.8888888888888888,\"#fdca26\"],[1.0,\"#f0f921\"]]}],\"choropleth\":[{\"type\":\"choropleth\",\"colorbar\":{\"outlinewidth\":0,\"ticks\":\"\"}}],\"histogram2d\":[{\"type\":\"histogram2d\",\"colorbar\":{\"outlinewidth\":0,\"ticks\":\"\"},\"colorscale\":[[0.0,\"#0d0887\"],[0.1111111111111111,\"#46039f\"],[0.2222222222222222,\"#7201a8\"],[0.3333333333333333,\"#9c179e\"],[0.4444444444444444,\"#bd3786\"],[0.5555555555555556,\"#d8576b\"],[0.6666666666666666,\"#ed7953\"],[0.7777777777777778,\"#fb9f3a\"],[0.8888888888888888,\"#fdca26\"],[1.0,\"#f0f921\"]]}],\"heatmap\":[{\"type\":\"heatmap\",\"colorbar\":{\"outlinewidth\":0,\"ticks\":\"\"},\"colorscale\":[[0.0,\"#0d0887\"],[0.1111111111111111,\"#46039f\"],[0.2222222222222222,\"#7201a8\"],[0.3333333333333333,\"#9c179e\"],[0.4444444444444444,\"#bd3786\"],[0.5555555555555556,\"#d8576b\"],[0.6666666666666666,\"#ed7953\"],[0.7777777777777778,\"#fb9f3a\"],[0.8888888888888888,\"#fdca26\"],[1.0,\"#f0f921\"]]}],\"heatmapgl\":[{\"type\":\"heatmapgl\",\"colorbar\":{\"outlinewidth\":0,\"ticks\":\"\"},\"colorscale\":[[0.0,\"#0d0887\"],[0.1111111111111111,\"#46039f\"],[0.2222222222222222,\"#7201a8\"],[0.3333333333333333,\"#9c179e\"],[0.4444444444444444,\"#bd3786\"],[0.5555555555555556,\"#d8576b\"],[0.6666666666666666,\"#ed7953\"],[0.7777777777777778,\"#fb9f3a\"],[0.8888888888888888,\"#fdca26\"],[1.0,\"#f0f921\"]]}],\"contourcarpet\":[{\"type\":\"contourcarpet\",\"colorbar\":{\"outlinewidth\":0,\"ticks\":\"\"}}],\"contour\":[{\"type\":\"contour\",\"colorbar\":{\"outlinewidth\":0,\"ticks\":\"\"},\"colorscale\":[[0.0,\"#0d0887\"],[0.1111111111111111,\"#46039f\"],[0.2222222222222222,\"#7201a8\"],[0.3333333333333333,\"#9c179e\"],[0.4444444444444444,\"#bd3786\"],[0.5555555555555556,\"#d8576b\"],[0.6666666666666666,\"#ed7953\"],[0.7777777777777778,\"#fb9f3a\"],[0.8888888888888888,\"#fdca26\"],[1.0,\"#f0f921\"]]}],\"surface\":[{\"type\":\"surface\",\"colorbar\":{\"outlinewidth\":0,\"ticks\":\"\"},\"colorscale\":[[0.0,\"#0d0887\"],[0.1111111111111111,\"#46039f\"],[0.2222222222222222,\"#7201a8\"],[0.3333333333333333,\"#9c179e\"],[0.4444444444444444,\"#bd3786\"],[0.5555555555555556,\"#d8576b\"],[0.6666666666666666,\"#ed7953\"],[0.7777777777777778,\"#fb9f3a\"],[0.8888888888888888,\"#fdca26\"],[1.0,\"#f0f921\"]]}],\"mesh3d\":[{\"type\":\"mesh3d\",\"colorbar\":{\"outlinewidth\":0,\"ticks\":\"\"}}],\"scatter\":[{\"fillpattern\":{\"fillmode\":\"overlay\",\"size\":10,\"solidity\":0.2},\"type\":\"scatter\"}],\"parcoords\":[{\"type\":\"parcoords\",\"line\":{\"colorbar\":{\"outlinewidth\":0,\"ticks\":\"\"}}}],\"scatterpolargl\":[{\"type\":\"scatterpolargl\",\"marker\":{\"colorbar\":{\"outlinewidth\":0,\"ticks\":\"\"}}}],\"bar\":[{\"error_x\":{\"color\":\"#2a3f5f\"},\"error_y\":{\"color\":\"#2a3f5f\"},\"marker\":{\"line\":{\"color\":\"#E5ECF6\",\"width\":0.5},\"pattern\":{\"fillmode\":\"overlay\",\"size\":10,\"solidity\":0.2}},\"type\":\"bar\"}],\"scattergeo\":[{\"type\":\"scattergeo\",\"marker\":{\"colorbar\":{\"outlinewidth\":0,\"ticks\":\"\"}}}],\"scatterpolar\":[{\"type\":\"scatterpolar\",\"marker\":{\"colorbar\":{\"outlinewidth\":0,\"ticks\":\"\"}}}],\"histogram\":[{\"marker\":{\"pattern\":{\"fillmode\":\"overlay\",\"size\":10,\"solidity\":0.2}},\"type\":\"histogram\"}],\"scattergl\":[{\"type\":\"scattergl\",\"marker\":{\"colorbar\":{\"outlinewidth\":0,\"ticks\":\"\"}}}],\"scatter3d\":[{\"type\":\"scatter3d\",\"line\":{\"colorbar\":{\"outlinewidth\":0,\"ticks\":\"\"}},\"marker\":{\"colorbar\":{\"outlinewidth\":0,\"ticks\":\"\"}}}],\"scattermapbox\":[{\"type\":\"scattermapbox\",\"marker\":{\"colorbar\":{\"outlinewidth\":0,\"ticks\":\"\"}}}],\"scatterternary\":[{\"type\":\"scatterternary\",\"marker\":{\"colorbar\":{\"outlinewidth\":0,\"ticks\":\"\"}}}],\"scattercarpet\":[{\"type\":\"scattercarpet\",\"marker\":{\"colorbar\":{\"outlinewidth\":0,\"ticks\":\"\"}}}],\"carpet\":[{\"aaxis\":{\"endlinecolor\":\"#2a3f5f\",\"gridcolor\":\"white\",\"linecolor\":\"white\",\"minorgridcolor\":\"white\",\"startlinecolor\":\"#2a3f5f\"},\"baxis\":{\"endlinecolor\":\"#2a3f5f\",\"gridcolor\":\"white\",\"linecolor\":\"white\",\"minorgridcolor\":\"white\",\"startlinecolor\":\"#2a3f5f\"},\"type\":\"carpet\"}],\"table\":[{\"cells\":{\"fill\":{\"color\":\"#EBF0F8\"},\"line\":{\"color\":\"white\"}},\"header\":{\"fill\":{\"color\":\"#C8D4E3\"},\"line\":{\"color\":\"white\"}},\"type\":\"table\"}],\"barpolar\":[{\"marker\":{\"line\":{\"color\":\"#E5ECF6\",\"width\":0.5},\"pattern\":{\"fillmode\":\"overlay\",\"size\":10,\"solidity\":0.2}},\"type\":\"barpolar\"}],\"pie\":[{\"automargin\":true,\"type\":\"pie\"}]},\"layout\":{\"autotypenumbers\":\"strict\",\"colorway\":[\"#636efa\",\"#EF553B\",\"#00cc96\",\"#ab63fa\",\"#FFA15A\",\"#19d3f3\",\"#FF6692\",\"#B6E880\",\"#FF97FF\",\"#FECB52\"],\"font\":{\"color\":\"#2a3f5f\"},\"hovermode\":\"closest\",\"hoverlabel\":{\"align\":\"left\"},\"paper_bgcolor\":\"white\",\"plot_bgcolor\":\"#E5ECF6\",\"polar\":{\"bgcolor\":\"#E5ECF6\",\"angularaxis\":{\"gridcolor\":\"white\",\"linecolor\":\"white\",\"ticks\":\"\"},\"radialaxis\":{\"gridcolor\":\"white\",\"linecolor\":\"white\",\"ticks\":\"\"}},\"ternary\":{\"bgcolor\":\"#E5ECF6\",\"aaxis\":{\"gridcolor\":\"white\",\"linecolor\":\"white\",\"ticks\":\"\"},\"baxis\":{\"gridcolor\":\"white\",\"linecolor\":\"white\",\"ticks\":\"\"},\"caxis\":{\"gridcolor\":\"white\",\"linecolor\":\"white\",\"ticks\":\"\"}},\"coloraxis\":{\"colorbar\":{\"outlinewidth\":0,\"ticks\":\"\"}},\"colorscale\":{\"sequential\":[[0.0,\"#0d0887\"],[0.1111111111111111,\"#46039f\"],[0.2222222222222222,\"#7201a8\"],[0.3333333333333333,\"#9c179e\"],[0.4444444444444444,\"#bd3786\"],[0.5555555555555556,\"#d8576b\"],[0.6666666666666666,\"#ed7953\"],[0.7777777777777778,\"#fb9f3a\"],[0.8888888888888888,\"#fdca26\"],[1.0,\"#f0f921\"]],\"sequentialminus\":[[0.0,\"#0d0887\"],[0.1111111111111111,\"#46039f\"],[0.2222222222222222,\"#7201a8\"],[0.3333333333333333,\"#9c179e\"],[0.4444444444444444,\"#bd3786\"],[0.5555555555555556,\"#d8576b\"],[0.6666666666666666,\"#ed7953\"],[0.7777777777777778,\"#fb9f3a\"],[0.8888888888888888,\"#fdca26\"],[1.0,\"#f0f921\"]],\"diverging\":[[0,\"#8e0152\"],[0.1,\"#c51b7d\"],[0.2,\"#de77ae\"],[0.3,\"#f1b6da\"],[0.4,\"#fde0ef\"],[0.5,\"#f7f7f7\"],[0.6,\"#e6f5d0\"],[0.7,\"#b8e186\"],[0.8,\"#7fbc41\"],[0.9,\"#4d9221\"],[1,\"#276419\"]]},\"xaxis\":{\"gridcolor\":\"white\",\"linecolor\":\"white\",\"ticks\":\"\",\"title\":{\"standoff\":15},\"zerolinecolor\":\"white\",\"automargin\":true,\"zerolinewidth\":2},\"yaxis\":{\"gridcolor\":\"white\",\"linecolor\":\"white\",\"ticks\":\"\",\"title\":{\"standoff\":15},\"zerolinecolor\":\"white\",\"automargin\":true,\"zerolinewidth\":2},\"scene\":{\"xaxis\":{\"backgroundcolor\":\"#E5ECF6\",\"gridcolor\":\"white\",\"linecolor\":\"white\",\"showbackground\":true,\"ticks\":\"\",\"zerolinecolor\":\"white\",\"gridwidth\":2},\"yaxis\":{\"backgroundcolor\":\"#E5ECF6\",\"gridcolor\":\"white\",\"linecolor\":\"white\",\"showbackground\":true,\"ticks\":\"\",\"zerolinecolor\":\"white\",\"gridwidth\":2},\"zaxis\":{\"backgroundcolor\":\"#E5ECF6\",\"gridcolor\":\"white\",\"linecolor\":\"white\",\"showbackground\":true,\"ticks\":\"\",\"zerolinecolor\":\"white\",\"gridwidth\":2}},\"shapedefaults\":{\"line\":{\"color\":\"#2a3f5f\"}},\"annotationdefaults\":{\"arrowcolor\":\"#2a3f5f\",\"arrowhead\":0,\"arrowwidth\":1},\"geo\":{\"bgcolor\":\"white\",\"landcolor\":\"#E5ECF6\",\"subunitcolor\":\"white\",\"showland\":true,\"showlakes\":true,\"lakecolor\":\"white\"},\"title\":{\"x\":0.05},\"mapbox\":{\"style\":\"light\"}}}},                        {\"responsive\": true}                    ).then(function(){\n",
       "                            \n",
       "var gd = document.getElementById('f8442a8d-40ad-45bb-a08f-5b07c7d596ea');\n",
       "var x = new MutationObserver(function (mutations, observer) {{\n",
       "        var display = window.getComputedStyle(gd).display;\n",
       "        if (!display || display === 'none') {{\n",
       "            console.log([gd, 'removed!']);\n",
       "            Plotly.purge(gd);\n",
       "            observer.disconnect();\n",
       "        }}\n",
       "}});\n",
       "\n",
       "// Listen for the removal of the full notebook cells\n",
       "var notebookContainer = gd.closest('#notebook-container');\n",
       "if (notebookContainer) {{\n",
       "    x.observe(notebookContainer, {childList: true});\n",
       "}}\n",
       "\n",
       "// Listen for the clearing of the current output cell\n",
       "var outputEl = gd.closest('.output');\n",
       "if (outputEl) {{\n",
       "    x.observe(outputEl, {childList: true});\n",
       "}}\n",
       "\n",
       "                        })                };                });            </script>        </div>"
      ]
     },
     "metadata": {},
     "output_type": "display_data"
    }
   ],
   "source": [
    "# Generating regular sankey diagram\n",
    "sank = genSankey(df,cat_cols=['Customer Segment','Region','Product Category','Product Sub-Category'],value_cols='Sales',title='Sales Performances')\n",
    "fig = go.Figure(sank)\n",
    "fig.show()"
   ]
  },
  {
   "cell_type": "code",
   "execution_count": 14,
   "id": "1ed471a2",
   "metadata": {},
   "outputs": [],
   "source": [
    "# Generating DFs for different filter options\n",
    "\n",
    "# All Filter\n",
    "all = genSankey(df,cat_cols=['Customer Segment','Region','Product Category','Product Sub-Category'],value_cols='Sales',title='Sales Performances')\n",
    "\n",
    "# Customer Segment\n",
    "corporate = genSankey(df[df['Customer Segment']=='Corporate'],cat_cols=['Customer Segment','Region','Product Category','Product Sub-Category'],value_cols='Sales',title='Sales Performances')\n",
    "home_office = genSankey(df[df['Customer Segment']=='Home Office'],cat_cols=['Customer Segment','Region','Product Category','Product Sub-Category'],value_cols='Sales',title='Sales Performances')\n",
    "consumer = genSankey(df[df['Customer Segment']=='Consumer'],cat_cols=['Customer Segment','Region','Product Category','Product Sub-Category'],value_cols='Sales',title='Sales Performances')\n",
    "small_business = genSankey(df[df['Customer Segment']=='Small Business'],cat_cols=['Customer Segment','Region','Product Category','Product Sub-Category'],value_cols='Sales',title='Sales Performances')\n",
    "\n",
    "# Region\n",
    "central = genSankey(df[df['Region']=='Central'],cat_cols=['Customer Segment','Region','Product Category','Product Sub-Category'],value_cols='Sales',title='Sales Performances')\n",
    "west = genSankey(df[df['Region']=='West'],cat_cols=['Customer Segment','Region','Product Category','Product Sub-Category'],value_cols='Sales',title='Sales Performances')\n",
    "south = genSankey(df[df['Region']=='South'],cat_cols=['Customer Segment','Region','Product Category','Product Sub-Category'],value_cols='Sales',title='Sales Performances')\n",
    "east = genSankey(df[df['Region']=='East'],cat_cols=['Customer Segment','Region','Product Category','Product Sub-Category'],value_cols='Sales',title='Sales Performances')\n",
    "\n",
    "# Product Category\n",
    "technology = genSankey(df[df['Product Category']=='Technology'],cat_cols=['Customer Segment','Region','Product Category','Product Sub-Category'],value_cols='Sales',title='Sales Performances')\n",
    "furniture = genSankey(df[df['Product Category']=='Furniture'],cat_cols=['Customer Segment','Region','Product Category','Product Sub-Category'],value_cols='Sales',title='Sales Performances')\n",
    "os = genSankey(df[df['Product Category']=='Office Supplies'],cat_cols=['Customer Segment','Region','Product Category','Product Sub-Category'],value_cols='Sales',title='Sales Performances')"
   ]
  },
  {
   "cell_type": "code",
   "execution_count": 15,
   "id": "a23eacc9",
   "metadata": {},
   "outputs": [],
   "source": [
    "# Constructing menus\n",
    "updatemenus=[\n",
    "        dict(\n",
    "            type = \"buttons\",\n",
    "            direction = \"left\",\n",
    "            buttons=list([\n",
    "                dict(\n",
    "                    args=[all],\n",
    "                    label=\"All\",\n",
    "                    method=\"animate\"\n",
    "                )\n",
    "            ]),\n",
    "            pad={\"r\": 10, \"t\": 10},\n",
    "            showactive=True,\n",
    "            x=0,\n",
    "            y=1.1\n",
    "        ),\n",
    "        dict(\n",
    "            buttons=list([\n",
    "                dict(\n",
    "                    args=[corporate],\n",
    "                    label=\"Corporate\",\n",
    "                    method=\"animate\"\n",
    "                ),\n",
    "                dict(\n",
    "                    args=[home_office],\n",
    "                    label=\"Home Office\",\n",
    "                    method=\"animate\"\n",
    "                ),\n",
    "                dict(\n",
    "                    args=[consumer],\n",
    "                    label=\"Consumer\",\n",
    "                    method=\"animate\"\n",
    "                ),\n",
    "                dict(\n",
    "                    args=[small_business],\n",
    "                    label=\"Small Business\",\n",
    "                    method=\"animate\"\n",
    "                )\n",
    "            ]),\n",
    "            direction=\"down\",\n",
    "            pad={\"r\": 10, \"t\": 10},\n",
    "            showactive=True,\n",
    "            x=0,\n",
    "            y=1\n",
    "        ),\n",
    "        dict(\n",
    "            buttons=list([\n",
    "                dict(\n",
    "                    args=[central],\n",
    "                    label=\"Central\",\n",
    "                    method=\"animate\"\n",
    "                ),\n",
    "                dict(\n",
    "                    args=[west],\n",
    "                    label=\"West\",\n",
    "                    method=\"animate\"\n",
    "                ),\n",
    "                dict(\n",
    "                    args=[south],\n",
    "                    label=\"South\",\n",
    "                    method=\"animate\"\n",
    "                ),\n",
    "                dict(\n",
    "                    args=[east],\n",
    "                    label=\"East\",\n",
    "                    method=\"animate\"\n",
    "                )\n",
    "            ]),\n",
    "            direction=\"down\",\n",
    "            pad={\"r\": 10, \"t\": 10},\n",
    "            showactive=True,\n",
    "            x=0,\n",
    "            y=0.9\n",
    "        ),\n",
    "        dict(\n",
    "            buttons=list([\n",
    "                dict(\n",
    "                    args=[technology],\n",
    "                    label=\"Technology\",\n",
    "                    method=\"animate\"\n",
    "                ),\n",
    "                dict(\n",
    "                    args=[furniture],\n",
    "                    label=\"Furniture\",\n",
    "                    method=\"animate\"\n",
    "                ),\n",
    "                dict(\n",
    "                    args=[os],\n",
    "                    label=\"Office Supplies\",\n",
    "                    method=\"animate\"\n",
    "                ),\n",
    "            ]),\n",
    "            direction=\"down\",\n",
    "            pad={\"r\": 10, \"t\": 10},\n",
    "            showactive=True,\n",
    "            x=0,\n",
    "            y=0.8\n",
    "        )\n",
    "          ]"
   ]
  },
  {
   "cell_type": "code",
   "execution_count": 19,
   "id": "96bafab5",
   "metadata": {},
   "outputs": [
    {
     "data": {
      "application/vnd.plotly.v1+json": {
       "config": {
        "plotlyServerURL": "https://plot.ly"
       },
       "data": [
        {
         "link": {
          "source": [
           4,
           4,
           4,
           2,
           2,
           2,
           2,
           0,
           0,
           0,
           0,
           7,
           7,
           7,
           9,
           9,
           9,
           9,
           3,
           3,
           3,
           3,
           8,
           8,
           8,
           8,
           8,
           8,
           8,
           8,
           8,
           1,
           1,
           1,
           1,
           5,
           5,
           5,
           10,
           10,
           10,
           10,
           6,
           6,
           6
          ],
          "target": [
           9,
           8,
           10,
           4,
           7,
           5,
           6,
           4,
           7,
           5,
           6,
           9,
           8,
           10,
           25,
           22,
           24,
           19,
           4,
           7,
           5,
           6,
           26,
           20,
           11,
           17,
           12,
           16,
           23,
           27,
           14,
           4,
           7,
           5,
           6,
           9,
           8,
           10,
           15,
           21,
           13,
           18,
           9,
           8,
           10
          ],
          "value": [
           859217.62,
           672768.64,
           1008355.36,
           404291.71,
           480805.05,
           329780.37,
           620338.09,
           1042483.12,
           818102.47,
           569904.41,
           838901.07,
           864063.26,
           711438.58,
           847302.84,
           507494.49,
           1164584.16,
           444624.03,
           1061921.06,
           709259.23,
           506332.02,
           427009.69,
           526351.09,
           456723.08,
           638582.09,
           147921.03,
           23449.9,
           253600.31,
           103251.59,
           8663.77,
           40428.87,
           585704.91,
           384307.56,
           617565.14,
           270651.75,
           405848.55,
           546261.1,
           373950.53,
           677134.59,
           490840.53,
           661211.93,
           1218656.59,
           1144272.98,
           909081.76,
           500167.8,
           982189.24
          ]
         },
         "node": {
          "color": [
           "#4B8BBE",
           "#4B8BBE",
           "#4B8BBE",
           "#4B8BBE",
           "#306998",
           "#306998",
           "#306998",
           "#306998",
           "#FFE873",
           "#FFE873",
           "#FFE873",
           "#FFD43B",
           "#FFD43B",
           "#FFD43B",
           "#FFD43B",
           "#FFD43B",
           "#FFD43B",
           "#FFD43B",
           "#FFD43B",
           "#FFD43B",
           "#FFD43B",
           "#FFD43B",
           "#FFD43B",
           "#FFD43B",
           "#FFD43B",
           "#FFD43B",
           "#FFD43B",
           "#FFD43B"
          ],
          "label": [
           "Corporate",
           "Small Business",
           "Consumer",
           "Home Office",
           "Central",
           "South",
           "West",
           "East",
           "Office Supplies",
           "Furniture",
           "Technology",
           "Envelopes",
           "Paper",
           "Office Machines",
           "Storage & Organization",
           "Computer Peripherals",
           "Pens & Art Supplies",
           "Labels",
           "Telephones and Communication",
           "Tables",
           "Binders and Binder Accessories",
           "Copiers and Fax",
           "Chairs & Chairmats",
           "Rubber Bands",
           "Office Furnishings",
           "Bookcases",
           "Appliances",
           "Scissors, Rulers and Trimmers"
          ],
          "line": {
           "color": "black",
           "width": 0.5
          },
          "pad": 15,
          "thickness": 20
         },
         "type": "sankey"
        }
       ],
       "layout": {
        "font": {
         "size": 10
        },
        "template": {
         "data": {
          "bar": [
           {
            "error_x": {
             "color": "#2a3f5f"
            },
            "error_y": {
             "color": "#2a3f5f"
            },
            "marker": {
             "line": {
              "color": "#E5ECF6",
              "width": 0.5
             },
             "pattern": {
              "fillmode": "overlay",
              "size": 10,
              "solidity": 0.2
             }
            },
            "type": "bar"
           }
          ],
          "barpolar": [
           {
            "marker": {
             "line": {
              "color": "#E5ECF6",
              "width": 0.5
             },
             "pattern": {
              "fillmode": "overlay",
              "size": 10,
              "solidity": 0.2
             }
            },
            "type": "barpolar"
           }
          ],
          "carpet": [
           {
            "aaxis": {
             "endlinecolor": "#2a3f5f",
             "gridcolor": "white",
             "linecolor": "white",
             "minorgridcolor": "white",
             "startlinecolor": "#2a3f5f"
            },
            "baxis": {
             "endlinecolor": "#2a3f5f",
             "gridcolor": "white",
             "linecolor": "white",
             "minorgridcolor": "white",
             "startlinecolor": "#2a3f5f"
            },
            "type": "carpet"
           }
          ],
          "choropleth": [
           {
            "colorbar": {
             "outlinewidth": 0,
             "ticks": ""
            },
            "type": "choropleth"
           }
          ],
          "contour": [
           {
            "colorbar": {
             "outlinewidth": 0,
             "ticks": ""
            },
            "colorscale": [
             [
              0,
              "#0d0887"
             ],
             [
              0.1111111111111111,
              "#46039f"
             ],
             [
              0.2222222222222222,
              "#7201a8"
             ],
             [
              0.3333333333333333,
              "#9c179e"
             ],
             [
              0.4444444444444444,
              "#bd3786"
             ],
             [
              0.5555555555555556,
              "#d8576b"
             ],
             [
              0.6666666666666666,
              "#ed7953"
             ],
             [
              0.7777777777777778,
              "#fb9f3a"
             ],
             [
              0.8888888888888888,
              "#fdca26"
             ],
             [
              1,
              "#f0f921"
             ]
            ],
            "type": "contour"
           }
          ],
          "contourcarpet": [
           {
            "colorbar": {
             "outlinewidth": 0,
             "ticks": ""
            },
            "type": "contourcarpet"
           }
          ],
          "heatmap": [
           {
            "colorbar": {
             "outlinewidth": 0,
             "ticks": ""
            },
            "colorscale": [
             [
              0,
              "#0d0887"
             ],
             [
              0.1111111111111111,
              "#46039f"
             ],
             [
              0.2222222222222222,
              "#7201a8"
             ],
             [
              0.3333333333333333,
              "#9c179e"
             ],
             [
              0.4444444444444444,
              "#bd3786"
             ],
             [
              0.5555555555555556,
              "#d8576b"
             ],
             [
              0.6666666666666666,
              "#ed7953"
             ],
             [
              0.7777777777777778,
              "#fb9f3a"
             ],
             [
              0.8888888888888888,
              "#fdca26"
             ],
             [
              1,
              "#f0f921"
             ]
            ],
            "type": "heatmap"
           }
          ],
          "heatmapgl": [
           {
            "colorbar": {
             "outlinewidth": 0,
             "ticks": ""
            },
            "colorscale": [
             [
              0,
              "#0d0887"
             ],
             [
              0.1111111111111111,
              "#46039f"
             ],
             [
              0.2222222222222222,
              "#7201a8"
             ],
             [
              0.3333333333333333,
              "#9c179e"
             ],
             [
              0.4444444444444444,
              "#bd3786"
             ],
             [
              0.5555555555555556,
              "#d8576b"
             ],
             [
              0.6666666666666666,
              "#ed7953"
             ],
             [
              0.7777777777777778,
              "#fb9f3a"
             ],
             [
              0.8888888888888888,
              "#fdca26"
             ],
             [
              1,
              "#f0f921"
             ]
            ],
            "type": "heatmapgl"
           }
          ],
          "histogram": [
           {
            "marker": {
             "pattern": {
              "fillmode": "overlay",
              "size": 10,
              "solidity": 0.2
             }
            },
            "type": "histogram"
           }
          ],
          "histogram2d": [
           {
            "colorbar": {
             "outlinewidth": 0,
             "ticks": ""
            },
            "colorscale": [
             [
              0,
              "#0d0887"
             ],
             [
              0.1111111111111111,
              "#46039f"
             ],
             [
              0.2222222222222222,
              "#7201a8"
             ],
             [
              0.3333333333333333,
              "#9c179e"
             ],
             [
              0.4444444444444444,
              "#bd3786"
             ],
             [
              0.5555555555555556,
              "#d8576b"
             ],
             [
              0.6666666666666666,
              "#ed7953"
             ],
             [
              0.7777777777777778,
              "#fb9f3a"
             ],
             [
              0.8888888888888888,
              "#fdca26"
             ],
             [
              1,
              "#f0f921"
             ]
            ],
            "type": "histogram2d"
           }
          ],
          "histogram2dcontour": [
           {
            "colorbar": {
             "outlinewidth": 0,
             "ticks": ""
            },
            "colorscale": [
             [
              0,
              "#0d0887"
             ],
             [
              0.1111111111111111,
              "#46039f"
             ],
             [
              0.2222222222222222,
              "#7201a8"
             ],
             [
              0.3333333333333333,
              "#9c179e"
             ],
             [
              0.4444444444444444,
              "#bd3786"
             ],
             [
              0.5555555555555556,
              "#d8576b"
             ],
             [
              0.6666666666666666,
              "#ed7953"
             ],
             [
              0.7777777777777778,
              "#fb9f3a"
             ],
             [
              0.8888888888888888,
              "#fdca26"
             ],
             [
              1,
              "#f0f921"
             ]
            ],
            "type": "histogram2dcontour"
           }
          ],
          "mesh3d": [
           {
            "colorbar": {
             "outlinewidth": 0,
             "ticks": ""
            },
            "type": "mesh3d"
           }
          ],
          "parcoords": [
           {
            "line": {
             "colorbar": {
              "outlinewidth": 0,
              "ticks": ""
             }
            },
            "type": "parcoords"
           }
          ],
          "pie": [
           {
            "automargin": true,
            "type": "pie"
           }
          ],
          "scatter": [
           {
            "fillpattern": {
             "fillmode": "overlay",
             "size": 10,
             "solidity": 0.2
            },
            "type": "scatter"
           }
          ],
          "scatter3d": [
           {
            "line": {
             "colorbar": {
              "outlinewidth": 0,
              "ticks": ""
             }
            },
            "marker": {
             "colorbar": {
              "outlinewidth": 0,
              "ticks": ""
             }
            },
            "type": "scatter3d"
           }
          ],
          "scattercarpet": [
           {
            "marker": {
             "colorbar": {
              "outlinewidth": 0,
              "ticks": ""
             }
            },
            "type": "scattercarpet"
           }
          ],
          "scattergeo": [
           {
            "marker": {
             "colorbar": {
              "outlinewidth": 0,
              "ticks": ""
             }
            },
            "type": "scattergeo"
           }
          ],
          "scattergl": [
           {
            "marker": {
             "colorbar": {
              "outlinewidth": 0,
              "ticks": ""
             }
            },
            "type": "scattergl"
           }
          ],
          "scattermapbox": [
           {
            "marker": {
             "colorbar": {
              "outlinewidth": 0,
              "ticks": ""
             }
            },
            "type": "scattermapbox"
           }
          ],
          "scatterpolar": [
           {
            "marker": {
             "colorbar": {
              "outlinewidth": 0,
              "ticks": ""
             }
            },
            "type": "scatterpolar"
           }
          ],
          "scatterpolargl": [
           {
            "marker": {
             "colorbar": {
              "outlinewidth": 0,
              "ticks": ""
             }
            },
            "type": "scatterpolargl"
           }
          ],
          "scatterternary": [
           {
            "marker": {
             "colorbar": {
              "outlinewidth": 0,
              "ticks": ""
             }
            },
            "type": "scatterternary"
           }
          ],
          "surface": [
           {
            "colorbar": {
             "outlinewidth": 0,
             "ticks": ""
            },
            "colorscale": [
             [
              0,
              "#0d0887"
             ],
             [
              0.1111111111111111,
              "#46039f"
             ],
             [
              0.2222222222222222,
              "#7201a8"
             ],
             [
              0.3333333333333333,
              "#9c179e"
             ],
             [
              0.4444444444444444,
              "#bd3786"
             ],
             [
              0.5555555555555556,
              "#d8576b"
             ],
             [
              0.6666666666666666,
              "#ed7953"
             ],
             [
              0.7777777777777778,
              "#fb9f3a"
             ],
             [
              0.8888888888888888,
              "#fdca26"
             ],
             [
              1,
              "#f0f921"
             ]
            ],
            "type": "surface"
           }
          ],
          "table": [
           {
            "cells": {
             "fill": {
              "color": "#EBF0F8"
             },
             "line": {
              "color": "white"
             }
            },
            "header": {
             "fill": {
              "color": "#C8D4E3"
             },
             "line": {
              "color": "white"
             }
            },
            "type": "table"
           }
          ]
         },
         "layout": {
          "annotationdefaults": {
           "arrowcolor": "#2a3f5f",
           "arrowhead": 0,
           "arrowwidth": 1
          },
          "autotypenumbers": "strict",
          "coloraxis": {
           "colorbar": {
            "outlinewidth": 0,
            "ticks": ""
           }
          },
          "colorscale": {
           "diverging": [
            [
             0,
             "#8e0152"
            ],
            [
             0.1,
             "#c51b7d"
            ],
            [
             0.2,
             "#de77ae"
            ],
            [
             0.3,
             "#f1b6da"
            ],
            [
             0.4,
             "#fde0ef"
            ],
            [
             0.5,
             "#f7f7f7"
            ],
            [
             0.6,
             "#e6f5d0"
            ],
            [
             0.7,
             "#b8e186"
            ],
            [
             0.8,
             "#7fbc41"
            ],
            [
             0.9,
             "#4d9221"
            ],
            [
             1,
             "#276419"
            ]
           ],
           "sequential": [
            [
             0,
             "#0d0887"
            ],
            [
             0.1111111111111111,
             "#46039f"
            ],
            [
             0.2222222222222222,
             "#7201a8"
            ],
            [
             0.3333333333333333,
             "#9c179e"
            ],
            [
             0.4444444444444444,
             "#bd3786"
            ],
            [
             0.5555555555555556,
             "#d8576b"
            ],
            [
             0.6666666666666666,
             "#ed7953"
            ],
            [
             0.7777777777777778,
             "#fb9f3a"
            ],
            [
             0.8888888888888888,
             "#fdca26"
            ],
            [
             1,
             "#f0f921"
            ]
           ],
           "sequentialminus": [
            [
             0,
             "#0d0887"
            ],
            [
             0.1111111111111111,
             "#46039f"
            ],
            [
             0.2222222222222222,
             "#7201a8"
            ],
            [
             0.3333333333333333,
             "#9c179e"
            ],
            [
             0.4444444444444444,
             "#bd3786"
            ],
            [
             0.5555555555555556,
             "#d8576b"
            ],
            [
             0.6666666666666666,
             "#ed7953"
            ],
            [
             0.7777777777777778,
             "#fb9f3a"
            ],
            [
             0.8888888888888888,
             "#fdca26"
            ],
            [
             1,
             "#f0f921"
            ]
           ]
          },
          "colorway": [
           "#636efa",
           "#EF553B",
           "#00cc96",
           "#ab63fa",
           "#FFA15A",
           "#19d3f3",
           "#FF6692",
           "#B6E880",
           "#FF97FF",
           "#FECB52"
          ],
          "font": {
           "color": "#2a3f5f"
          },
          "geo": {
           "bgcolor": "white",
           "lakecolor": "white",
           "landcolor": "#E5ECF6",
           "showlakes": true,
           "showland": true,
           "subunitcolor": "white"
          },
          "hoverlabel": {
           "align": "left"
          },
          "hovermode": "closest",
          "mapbox": {
           "style": "light"
          },
          "paper_bgcolor": "white",
          "plot_bgcolor": "#E5ECF6",
          "polar": {
           "angularaxis": {
            "gridcolor": "white",
            "linecolor": "white",
            "ticks": ""
           },
           "bgcolor": "#E5ECF6",
           "radialaxis": {
            "gridcolor": "white",
            "linecolor": "white",
            "ticks": ""
           }
          },
          "scene": {
           "xaxis": {
            "backgroundcolor": "#E5ECF6",
            "gridcolor": "white",
            "gridwidth": 2,
            "linecolor": "white",
            "showbackground": true,
            "ticks": "",
            "zerolinecolor": "white"
           },
           "yaxis": {
            "backgroundcolor": "#E5ECF6",
            "gridcolor": "white",
            "gridwidth": 2,
            "linecolor": "white",
            "showbackground": true,
            "ticks": "",
            "zerolinecolor": "white"
           },
           "zaxis": {
            "backgroundcolor": "#E5ECF6",
            "gridcolor": "white",
            "gridwidth": 2,
            "linecolor": "white",
            "showbackground": true,
            "ticks": "",
            "zerolinecolor": "white"
           }
          },
          "shapedefaults": {
           "line": {
            "color": "#2a3f5f"
           }
          },
          "ternary": {
           "aaxis": {
            "gridcolor": "white",
            "linecolor": "white",
            "ticks": ""
           },
           "baxis": {
            "gridcolor": "white",
            "linecolor": "white",
            "ticks": ""
           },
           "bgcolor": "#E5ECF6",
           "caxis": {
            "gridcolor": "white",
            "linecolor": "white",
            "ticks": ""
           }
          },
          "title": {
           "x": 0.05
          },
          "xaxis": {
           "automargin": true,
           "gridcolor": "white",
           "linecolor": "white",
           "ticks": "",
           "title": {
            "standoff": 15
           },
           "zerolinecolor": "white",
           "zerolinewidth": 2
          },
          "yaxis": {
           "automargin": true,
           "gridcolor": "white",
           "linecolor": "white",
           "ticks": "",
           "title": {
            "standoff": 15
           },
           "zerolinecolor": "white",
           "zerolinewidth": 2
          }
         }
        },
        "title": {
         "text": "Sales Performances"
        },
        "updatemenus": [
         {
          "buttons": [
           {
            "args": [
             {
              "data": [
               {
                "link": {
                 "source": [
                  4,
                  4,
                  4,
                  2,
                  2,
                  2,
                  2,
                  0,
                  0,
                  0,
                  0,
                  7,
                  7,
                  7,
                  9,
                  9,
                  9,
                  9,
                  3,
                  3,
                  3,
                  3,
                  8,
                  8,
                  8,
                  8,
                  8,
                  8,
                  8,
                  8,
                  8,
                  1,
                  1,
                  1,
                  1,
                  5,
                  5,
                  5,
                  10,
                  10,
                  10,
                  10,
                  6,
                  6,
                  6
                 ],
                 "target": [
                  9,
                  8,
                  10,
                  4,
                  7,
                  5,
                  6,
                  4,
                  7,
                  5,
                  6,
                  9,
                  8,
                  10,
                  25,
                  22,
                  24,
                  19,
                  4,
                  7,
                  5,
                  6,
                  26,
                  20,
                  11,
                  17,
                  12,
                  16,
                  23,
                  27,
                  14,
                  4,
                  7,
                  5,
                  6,
                  9,
                  8,
                  10,
                  15,
                  21,
                  13,
                  18,
                  9,
                  8,
                  10
                 ],
                 "value": [
                  859217.62,
                  672768.64,
                  1008355.36,
                  404291.71,
                  480805.05,
                  329780.37,
                  620338.09,
                  1042483.12,
                  818102.47,
                  569904.41,
                  838901.07,
                  864063.26,
                  711438.58,
                  847302.84,
                  507494.49,
                  1164584.16,
                  444624.03,
                  1061921.06,
                  709259.23,
                  506332.02,
                  427009.69,
                  526351.09,
                  456723.08,
                  638582.09,
                  147921.03,
                  23449.9,
                  253600.31,
                  103251.59,
                  8663.77,
                  40428.87,
                  585704.91,
                  384307.56,
                  617565.14,
                  270651.75,
                  405848.55,
                  546261.1,
                  373950.53,
                  677134.59,
                  490840.53,
                  661211.93,
                  1218656.59,
                  1144272.98,
                  909081.76,
                  500167.8,
                  982189.24
                 ]
                },
                "node": {
                 "color": [
                  "#4B8BBE",
                  "#4B8BBE",
                  "#4B8BBE",
                  "#4B8BBE",
                  "#306998",
                  "#306998",
                  "#306998",
                  "#306998",
                  "#FFE873",
                  "#FFE873",
                  "#FFE873",
                  "#FFD43B",
                  "#FFD43B",
                  "#FFD43B",
                  "#FFD43B",
                  "#FFD43B",
                  "#FFD43B",
                  "#FFD43B",
                  "#FFD43B",
                  "#FFD43B",
                  "#FFD43B",
                  "#FFD43B",
                  "#FFD43B",
                  "#FFD43B",
                  "#FFD43B",
                  "#FFD43B",
                  "#FFD43B",
                  "#FFD43B"
                 ],
                 "label": [
                  "Corporate",
                  "Small Business",
                  "Consumer",
                  "Home Office",
                  "Central",
                  "South",
                  "West",
                  "East",
                  "Office Supplies",
                  "Furniture",
                  "Technology",
                  "Envelopes",
                  "Paper",
                  "Office Machines",
                  "Storage & Organization",
                  "Computer Peripherals",
                  "Pens & Art Supplies",
                  "Labels",
                  "Telephones and Communication",
                  "Tables",
                  "Binders and Binder Accessories",
                  "Copiers and Fax",
                  "Chairs & Chairmats",
                  "Rubber Bands",
                  "Office Furnishings",
                  "Bookcases",
                  "Appliances",
                  "Scissors, Rulers and Trimmers"
                 ],
                 "line": {
                  "color": "black",
                  "width": 0.5
                 },
                 "pad": 15,
                 "thickness": 20
                },
                "type": "sankey"
               }
              ],
              "layout": {
               "font": {
                "size": 10
               },
               "title": "Sales Performances"
              }
             }
            ],
            "label": "All",
            "method": "animate"
           }
          ],
          "direction": "left",
          "pad": {
           "r": 10,
           "t": 10
          },
          "showactive": true,
          "type": "buttons",
          "x": 0,
          "y": 1.1
         },
         {
          "buttons": [
           {
            "args": [
             {
              "data": [
               {
                "link": {
                 "source": [
                  1,
                  1,
                  1,
                  0,
                  0,
                  0,
                  0,
                  4,
                  4,
                  4,
                  6,
                  6,
                  6,
                  6,
                  5,
                  5,
                  5,
                  5,
                  5,
                  5,
                  5,
                  5,
                  5,
                  2,
                  2,
                  2,
                  7,
                  7,
                  7,
                  7,
                  3,
                  3,
                  3
                 ],
                 "target": [
                  6,
                  5,
                  7,
                  1,
                  4,
                  2,
                  3,
                  6,
                  5,
                  7,
                  22,
                  19,
                  21,
                  16,
                  23,
                  18,
                  8,
                  14,
                  9,
                  13,
                  20,
                  24,
                  11,
                  6,
                  5,
                  7,
                  12,
                  17,
                  10,
                  15,
                  6,
                  5,
                  7
                 ],
                 "value": [
                  341879.03,
                  222585.09,
                  478019,
                  1042483.12,
                  818102.47,
                  569904.41,
                  838901.07,
                  269576.86,
                  238972.77000000002,
                  309552.84,
                  262084.57,
                  407719.86,
                  115501.84,
                  363979.4,
                  167939.55,
                  225155.09,
                  44463.41,
                  7927.73,
                  89309,
                  35997.35,
                  2193.82,
                  9625.34,
                  154920.32,
                  177751.77,
                  117792.45,
                  274360.19,
                  224139.25,
                  205637.59,
                  516519.79,
                  436277.16,
                  360078.01,
                  158181.3,
                  320641.76
                 ]
                },
                "node": {
                 "color": [
                  "#4B8BBE",
                  "#306998",
                  "#306998",
                  "#306998",
                  "#306998",
                  "#FFE873",
                  "#FFE873",
                  "#FFE873",
                  "#FFD43B",
                  "#FFD43B",
                  "#FFD43B",
                  "#FFD43B",
                  "#FFD43B",
                  "#FFD43B",
                  "#FFD43B",
                  "#FFD43B",
                  "#FFD43B",
                  "#FFD43B",
                  "#FFD43B",
                  "#FFD43B",
                  "#FFD43B",
                  "#FFD43B",
                  "#FFD43B",
                  "#FFD43B",
                  "#FFD43B"
                 ],
                 "label": [
                  "Corporate",
                  "Central",
                  "South",
                  "West",
                  "East",
                  "Office Supplies",
                  "Furniture",
                  "Technology",
                  "Envelopes",
                  "Paper",
                  "Office Machines",
                  "Storage & Organization",
                  "Computer Peripherals",
                  "Pens & Art Supplies",
                  "Labels",
                  "Telephones and Communication",
                  "Tables",
                  "Copiers and Fax",
                  "Binders and Binder Accessories",
                  "Chairs & Chairmats",
                  "Rubber Bands",
                  "Office Furnishings",
                  "Bookcases",
                  "Appliances",
                  "Scissors, Rulers and Trimmers"
                 ],
                 "line": {
                  "color": "black",
                  "width": 0.5
                 },
                 "pad": 15,
                 "thickness": 20
                },
                "type": "sankey"
               }
              ],
              "layout": {
               "font": {
                "size": 10
               },
               "title": "Sales Performances"
              }
             }
            ],
            "label": "Corporate",
            "method": "animate"
           },
           {
            "args": [
             {
              "data": [
               {
                "link": {
                 "source": [
                  3,
                  3,
                  3,
                  4,
                  4,
                  4,
                  6,
                  6,
                  6,
                  6,
                  0,
                  0,
                  0,
                  0,
                  5,
                  5,
                  5,
                  5,
                  5,
                  5,
                  5,
                  5,
                  5,
                  2,
                  2,
                  2,
                  7,
                  7,
                  7,
                  7,
                  1,
                  1,
                  1
                 ],
                 "target": [
                  6,
                  5,
                  7,
                  6,
                  5,
                  7,
                  22,
                  19,
                  21,
                  15,
                  3,
                  4,
                  2,
                  1,
                  23,
                  16,
                  8,
                  17,
                  9,
                  13,
                  20,
                  24,
                  11,
                  6,
                  5,
                  7,
                  12,
                  18,
                  10,
                  14,
                  6,
                  5,
                  7
                 ],
                 "value": [
                  216125.89,
                  195743.68,
                  297389.66,
                  192635.78,
                  144758.44,
                  168937.8,
                  79403.98,
                  212833.69,
                  197185.43,
                  287508.46,
                  709259.23,
                  506332.02,
                  427009.69,
                  526351.09,
                  124754.4,
                  148470.69,
                  22580.42,
                  5410.42,
                  61117.18,
                  21761.26,
                  2292.0299999999997,
                  12946.26,
                  179147.09,
                  186196.38,
                  107200.02,
                  133613.29,
                  110841.16,
                  174716.95,
                  245018.28,
                  282964.33,
                  181973.51,
                  130777.61,
                  213599.97
                 ]
                },
                "node": {
                 "color": [
                  "#4B8BBE",
                  "#306998",
                  "#306998",
                  "#306998",
                  "#306998",
                  "#FFE873",
                  "#FFE873",
                  "#FFE873",
                  "#FFD43B",
                  "#FFD43B",
                  "#FFD43B",
                  "#FFD43B",
                  "#FFD43B",
                  "#FFD43B",
                  "#FFD43B",
                  "#FFD43B",
                  "#FFD43B",
                  "#FFD43B",
                  "#FFD43B",
                  "#FFD43B",
                  "#FFD43B",
                  "#FFD43B",
                  "#FFD43B",
                  "#FFD43B",
                  "#FFD43B"
                 ],
                 "label": [
                  "Home Office",
                  "West",
                  "South",
                  "Central",
                  "East",
                  "Office Supplies",
                  "Furniture",
                  "Technology",
                  "Envelopes",
                  "Paper",
                  "Office Machines",
                  "Storage & Organization",
                  "Computer Peripherals",
                  "Pens & Art Supplies",
                  "Telephones and Communication",
                  "Tables",
                  "Binders and Binder Accessories",
                  "Labels",
                  "Copiers and Fax",
                  "Chairs & Chairmats",
                  "Rubber Bands",
                  "Office Furnishings",
                  "Bookcases",
                  "Appliances",
                  "Scissors, Rulers and Trimmers"
                 ],
                 "line": {
                  "color": "black",
                  "width": 0.5
                 },
                 "pad": 15,
                 "thickness": 20
                },
                "type": "sankey"
               }
              ],
              "layout": {
               "font": {
                "size": 10
               },
               "title": "Sales Performances"
              }
             }
            ],
            "label": "Home Office",
            "method": "animate"
           },
           {
            "args": [
             {
              "data": [
               {
                "link": {
                 "source": [
                  3,
                  3,
                  3,
                  0,
                  0,
                  0,
                  0,
                  4,
                  4,
                  4,
                  6,
                  6,
                  6,
                  6,
                  5,
                  5,
                  5,
                  5,
                  5,
                  5,
                  5,
                  5,
                  5,
                  2,
                  2,
                  2,
                  7,
                  7,
                  7,
                  7,
                  1,
                  1,
                  1
                 ],
                 "target": [
                  6,
                  5,
                  7,
                  3,
                  4,
                  2,
                  1,
                  6,
                  5,
                  7,
                  22,
                  19,
                  21,
                  15,
                  23,
                  13,
                  8,
                  17,
                  9,
                  16,
                  20,
                  24,
                  11,
                  6,
                  5,
                  7,
                  12,
                  18,
                  10,
                  14,
                  6,
                  5,
                  7
                 ],
                 "value": [
                  175916.88,
                  101547.51,
                  126827.31999999999,
                  404291.71,
                  480805.05,
                  329780.37,
                  620338.09,
                  186490.44,
                  106832.71,
                  187481.9,
                  92623.79000000001,
                  305381.3,
                  69529.19,
                  228932.58,
                  63808,
                  103628.89,
                  37643.82,
                  3713.7000000000003,
                  53001.11,
                  24023.190000000002,
                  1708.42,
                  14625.93,
                  121711.04,
                  89238.68000000001,
                  89434.34,
                  151107.35,
                  80799.62,
                  148503.63999999998,
                  260009.96,
                  225571.04,
                  244820.86,
                  126049.54000000001,
                  249467.69
                 ]
                },
                "node": {
                 "color": [
                  "#4B8BBE",
                  "#306998",
                  "#306998",
                  "#306998",
                  "#306998",
                  "#FFE873",
                  "#FFE873",
                  "#FFE873",
                  "#FFD43B",
                  "#FFD43B",
                  "#FFD43B",
                  "#FFD43B",
                  "#FFD43B",
                  "#FFD43B",
                  "#FFD43B",
                  "#FFD43B",
                  "#FFD43B",
                  "#FFD43B",
                  "#FFD43B",
                  "#FFD43B",
                  "#FFD43B",
                  "#FFD43B",
                  "#FFD43B",
                  "#FFD43B",
                  "#FFD43B"
                 ],
                 "label": [
                  "Consumer",
                  "West",
                  "South",
                  "Central",
                  "East",
                  "Office Supplies",
                  "Furniture",
                  "Technology",
                  "Envelopes",
                  "Paper",
                  "Office Machines",
                  "Storage & Organization",
                  "Computer Peripherals",
                  "Binders and Binder Accessories",
                  "Telephones and Communication",
                  "Tables",
                  "Pens & Art Supplies",
                  "Labels",
                  "Copiers and Fax",
                  "Chairs & Chairmats",
                  "Rubber Bands",
                  "Office Furnishings",
                  "Bookcases",
                  "Appliances",
                  "Scissors, Rulers and Trimmers"
                 ],
                 "line": {
                  "color": "black",
                  "width": 0.5
                 },
                 "pad": 15,
                 "thickness": 20
                },
                "type": "sankey"
               }
              ],
              "layout": {
               "font": {
                "size": 10
               },
               "title": "Sales Performances"
              }
             }
            ],
            "label": "Consumer",
            "method": "animate"
           },
           {
            "args": [
             {
              "data": [
               {
                "link": {
                 "source": [
                  1,
                  1,
                  1,
                  4,
                  4,
                  4,
                  6,
                  6,
                  6,
                  6,
                  5,
                  5,
                  5,
                  5,
                  5,
                  5,
                  5,
                  5,
                  5,
                  0,
                  0,
                  0,
                  0,
                  2,
                  2,
                  2,
                  7,
                  7,
                  7,
                  7,
                  3,
                  3,
                  3
                 ],
                 "target": [
                  6,
                  5,
                  7,
                  6,
                  5,
                  7,
                  22,
                  19,
                  21,
                  17,
                  23,
                  16,
                  8,
                  14,
                  9,
                  13,
                  20,
                  24,
                  11,
                  1,
                  4,
                  2,
                  3,
                  6,
                  5,
                  7,
                  12,
                  18,
                  10,
                  15,
                  6,
                  5,
                  7
                 ],
                 "value": [
                  125295.82,
                  152892.36000000002,
                  106119.38,
                  215360.18,
                  220874.66,
                  181330.3,
                  73382.15,
                  238649.31,
                  62407.57,
                  181500.62,
                  100221.13,
                  161327.42,
                  43233.38,
                  6398.05,
                  50173.020000000004,
                  21469.79,
                  2469.5,
                  3231.34,
                  129926.46,
                  384307.56,
                  617565.14,
                  270651.75,
                  405848.55,
                  93074.27,
                  59523.72,
                  118053.76000000001,
                  75060.5,
                  132353.75,
                  197108.56,
                  199460.45,
                  122209.38,
                  85159.35,
                  198479.82
                 ]
                },
                "node": {
                 "color": [
                  "#4B8BBE",
                  "#306998",
                  "#306998",
                  "#306998",
                  "#306998",
                  "#FFE873",
                  "#FFE873",
                  "#FFE873",
                  "#FFD43B",
                  "#FFD43B",
                  "#FFD43B",
                  "#FFD43B",
                  "#FFD43B",
                  "#FFD43B",
                  "#FFD43B",
                  "#FFD43B",
                  "#FFD43B",
                  "#FFD43B",
                  "#FFD43B",
                  "#FFD43B",
                  "#FFD43B",
                  "#FFD43B",
                  "#FFD43B",
                  "#FFD43B",
                  "#FFD43B"
                 ],
                 "label": [
                  "Small Business",
                  "Central",
                  "South",
                  "West",
                  "East",
                  "Office Supplies",
                  "Furniture",
                  "Technology",
                  "Envelopes",
                  "Paper",
                  "Office Machines",
                  "Storage & Organization",
                  "Computer Peripherals",
                  "Pens & Art Supplies",
                  "Labels",
                  "Telephones and Communication",
                  "Binders and Binder Accessories",
                  "Tables",
                  "Copiers and Fax",
                  "Chairs & Chairmats",
                  "Rubber Bands",
                  "Office Furnishings",
                  "Bookcases",
                  "Appliances",
                  "Scissors, Rulers and Trimmers"
                 ],
                 "line": {
                  "color": "black",
                  "width": 0.5
                 },
                 "pad": 15,
                 "thickness": 20
                },
                "type": "sankey"
               }
              ],
              "layout": {
               "font": {
                "size": 10
               },
               "title": "Sales Performances"
              }
             }
            ],
            "label": "Small Business",
            "method": "animate"
           }
          ],
          "direction": "down",
          "pad": {
           "r": 10,
           "t": 10
          },
          "showactive": true,
          "x": 0,
          "y": 1
         },
         {
          "buttons": [
           {
            "args": [
             {
              "data": [
               {
                "link": {
                 "source": [
                  4,
                  4,
                  4,
                  2,
                  0,
                  6,
                  6,
                  6,
                  6,
                  1,
                  5,
                  5,
                  5,
                  5,
                  5,
                  5,
                  5,
                  5,
                  5,
                  3,
                  7,
                  7,
                  7,
                  7
                 ],
                 "target": [
                  6,
                  5,
                  7,
                  4,
                  4,
                  22,
                  19,
                  21,
                  15,
                  4,
                  23,
                  17,
                  8,
                  14,
                  9,
                  13,
                  20,
                  24,
                  11,
                  4,
                  12,
                  18,
                  10,
                  16
                 ],
                 "value": [
                  859217.62,
                  672768.64,
                  1008355.36,
                  404291.71,
                  1042483.12,
                  117583.29000000001,
                  327909.58,
                  135556.38,
                  278168.37,
                  709259.23,
                  169845.36000000002,
                  188990.69,
                  29006.309999999998,
                  7109.35,
                  69784.83,
                  25346.38,
                  2847.27,
                  18071.74,
                  161766.71,
                  384307.56,
                  131915.62,
                  214366.22,
                  315993.24,
                  346080.27999999997
                 ]
                },
                "node": {
                 "color": [
                  "#4B8BBE",
                  "#4B8BBE",
                  "#4B8BBE",
                  "#4B8BBE",
                  "#306998",
                  "#FFE873",
                  "#FFE873",
                  "#FFE873",
                  "#FFD43B",
                  "#FFD43B",
                  "#FFD43B",
                  "#FFD43B",
                  "#FFD43B",
                  "#FFD43B",
                  "#FFD43B",
                  "#FFD43B",
                  "#FFD43B",
                  "#FFD43B",
                  "#FFD43B",
                  "#FFD43B",
                  "#FFD43B",
                  "#FFD43B",
                  "#FFD43B",
                  "#FFD43B",
                  "#FFD43B"
                 ],
                 "label": [
                  "Corporate",
                  "Home Office",
                  "Consumer",
                  "Small Business",
                  "Central",
                  "Office Supplies",
                  "Furniture",
                  "Technology",
                  "Envelopes",
                  "Paper",
                  "Office Machines",
                  "Storage & Organization",
                  "Computer Peripherals",
                  "Pens & Art Supplies",
                  "Labels",
                  "Tables",
                  "Telephones and Communication",
                  "Binders and Binder Accessories",
                  "Copiers and Fax",
                  "Chairs & Chairmats",
                  "Rubber Bands",
                  "Office Furnishings",
                  "Bookcases",
                  "Appliances",
                  "Scissors, Rulers and Trimmers"
                 ],
                 "line": {
                  "color": "black",
                  "width": 0.5
                 },
                 "pad": 15,
                 "thickness": 20
                },
                "type": "sankey"
               }
              ],
              "layout": {
               "font": {
                "size": 10
               },
               "title": "Sales Performances"
              }
             }
            ],
            "label": "Central",
            "method": "animate"
           },
           {
            "args": [
             {
              "data": [
               {
                "link": {
                 "source": [
                  2,
                  0,
                  6,
                  6,
                  6,
                  6,
                  3,
                  5,
                  5,
                  5,
                  5,
                  5,
                  5,
                  5,
                  5,
                  5,
                  1,
                  7,
                  7,
                  7,
                  7,
                  4,
                  4,
                  4
                 ],
                 "target": [
                  4,
                  4,
                  22,
                  19,
                  21,
                  17,
                  4,
                  23,
                  15,
                  8,
                  16,
                  9,
                  13,
                  20,
                  24,
                  11,
                  4,
                  12,
                  18,
                  10,
                  14,
                  6,
                  5,
                  7
                 ],
                 "value": [
                  620338.09,
                  838901.07,
                  222307.39,
                  294988.27,
                  126704.85,
                  265081.25,
                  526351.09,
                  77514.2,
                  90367.14,
                  50825.54,
                  4625.86,
                  61521.83,
                  29855.29,
                  2197.4,
                  15411.18,
                  167849.36,
                  405848.55,
                  91254.34,
                  203680.56,
                  396060.36,
                  291193.98,
                  909081.76,
                  500167.8,
                  982189.24
                 ]
                },
                "node": {
                 "color": [
                  "#4B8BBE",
                  "#4B8BBE",
                  "#4B8BBE",
                  "#4B8BBE",
                  "#306998",
                  "#FFE873",
                  "#FFE873",
                  "#FFE873",
                  "#FFD43B",
                  "#FFD43B",
                  "#FFD43B",
                  "#FFD43B",
                  "#FFD43B",
                  "#FFD43B",
                  "#FFD43B",
                  "#FFD43B",
                  "#FFD43B",
                  "#FFD43B",
                  "#FFD43B",
                  "#FFD43B",
                  "#FFD43B",
                  "#FFD43B",
                  "#FFD43B",
                  "#FFD43B",
                  "#FFD43B"
                 ],
                 "label": [
                  "Corporate",
                  "Small Business",
                  "Consumer",
                  "Home Office",
                  "West",
                  "Office Supplies",
                  "Furniture",
                  "Technology",
                  "Envelopes",
                  "Paper",
                  "Office Machines",
                  "Storage & Organization",
                  "Computer Peripherals",
                  "Pens & Art Supplies",
                  "Telephones and Communication",
                  "Binders and Binder Accessories",
                  "Labels",
                  "Tables",
                  "Copiers and Fax",
                  "Chairs & Chairmats",
                  "Rubber Bands",
                  "Office Furnishings",
                  "Bookcases",
                  "Appliances",
                  "Scissors, Rulers and Trimmers"
                 ],
                 "line": {
                  "color": "black",
                  "width": 0.5
                 },
                 "pad": 15,
                 "thickness": 20
                },
                "type": "sankey"
               }
              ],
              "layout": {
               "font": {
                "size": 10
               },
               "title": "Sales Performances"
              }
             }
            ],
            "label": "West",
            "method": "animate"
           },
           {
            "args": [
             {
              "data": [
               {
                "link": {
                 "source": [
                  2,
                  0,
                  6,
                  6,
                  6,
                  6,
                  3,
                  5,
                  5,
                  5,
                  5,
                  5,
                  5,
                  5,
                  5,
                  5,
                  1,
                  4,
                  4,
                  4,
                  7,
                  7,
                  7,
                  7
                 ],
                 "target": [
                  4,
                  4,
                  22,
                  19,
                  21,
                  17,
                  4,
                  23,
                  16,
                  8,
                  15,
                  9,
                  13,
                  20,
                  24,
                  11,
                  4,
                  6,
                  5,
                  7,
                  12,
                  18,
                  10,
                  14
                 ],
                 "value": [
                  329780.37,
                  569904.41,
                  83301.5,
                  161498.55,
                  87378.65,
                  214082.4,
                  427009.69,
                  74777.71,
                  107957.32,
                  15017.21,
                  5481.32,
                  51753.3,
                  15176.710000000001,
                  1189.21,
                  4383.28,
                  98214.47,
                  270651.75,
                  546261.1,
                  373950.53,
                  677134.59,
                  133718.62,
                  78565.08,
                  279525.09,
                  185325.8
                 ]
                },
                "node": {
                 "color": [
                  "#4B8BBE",
                  "#4B8BBE",
                  "#4B8BBE",
                  "#4B8BBE",
                  "#306998",
                  "#FFE873",
                  "#FFE873",
                  "#FFE873",
                  "#FFD43B",
                  "#FFD43B",
                  "#FFD43B",
                  "#FFD43B",
                  "#FFD43B",
                  "#FFD43B",
                  "#FFD43B",
                  "#FFD43B",
                  "#FFD43B",
                  "#FFD43B",
                  "#FFD43B",
                  "#FFD43B",
                  "#FFD43B",
                  "#FFD43B",
                  "#FFD43B",
                  "#FFD43B",
                  "#FFD43B"
                 ],
                 "label": [
                  "Corporate",
                  "Small Business",
                  "Consumer",
                  "Home Office",
                  "South",
                  "Office Supplies",
                  "Furniture",
                  "Technology",
                  "Envelopes",
                  "Paper",
                  "Office Machines",
                  "Storage & Organization",
                  "Computer Peripherals",
                  "Pens & Art Supplies",
                  "Telephones and Communication",
                  "Labels",
                  "Binders and Binder Accessories",
                  "Tables",
                  "Copiers and Fax",
                  "Chairs & Chairmats",
                  "Rubber Bands",
                  "Office Furnishings",
                  "Bookcases",
                  "Appliances",
                  "Scissors, Rulers and Trimmers"
                 ],
                 "line": {
                  "color": "black",
                  "width": 0.5
                 },
                 "pad": 15,
                 "thickness": 20
                },
                "type": "sankey"
               }
              ],
              "layout": {
               "font": {
                "size": 10
               },
               "title": "Sales Performances"
              }
             }
            ],
            "label": "South",
            "method": "animate"
           },
           {
            "args": [
             {
              "data": [
               {
                "link": {
                 "source": [
                  2,
                  0,
                  4,
                  4,
                  4,
                  6,
                  6,
                  6,
                  6,
                  3,
                  5,
                  5,
                  5,
                  5,
                  5,
                  5,
                  5,
                  5,
                  5,
                  1,
                  7,
                  7,
                  7,
                  7
                 ],
                 "target": [
                  4,
                  4,
                  6,
                  5,
                  7,
                  22,
                  19,
                  21,
                  15,
                  4,
                  23,
                  17,
                  8,
                  14,
                  9,
                  13,
                  20,
                  24,
                  11,
                  4,
                  12,
                  18,
                  10,
                  16
                 ],
                 "value": [
                  480805.05,
                  818102.47,
                  864063.26,
                  711438.58,
                  847302.84,
                  84302.31,
                  380187.76,
                  94984.15,
                  304589.04,
                  506332.02,
                  134585.81,
                  251266.94,
                  53071.97,
                  6233.37,
                  70540.35,
                  32873.21,
                  2429.89,
                  2562.67,
                  157874.37,
                  617565.14,
                  133951.95,
                  164600.07,
                  227077.9,
                  321672.92
                 ]
                },
                "node": {
                 "color": [
                  "#4B8BBE",
                  "#4B8BBE",
                  "#4B8BBE",
                  "#4B8BBE",
                  "#306998",
                  "#FFE873",
                  "#FFE873",
                  "#FFE873",
                  "#FFD43B",
                  "#FFD43B",
                  "#FFD43B",
                  "#FFD43B",
                  "#FFD43B",
                  "#FFD43B",
                  "#FFD43B",
                  "#FFD43B",
                  "#FFD43B",
                  "#FFD43B",
                  "#FFD43B",
                  "#FFD43B",
                  "#FFD43B",
                  "#FFD43B",
                  "#FFD43B",
                  "#FFD43B",
                  "#FFD43B"
                 ],
                 "label": [
                  "Corporate",
                  "Small Business",
                  "Consumer",
                  "Home Office",
                  "East",
                  "Office Supplies",
                  "Furniture",
                  "Technology",
                  "Envelopes",
                  "Paper",
                  "Office Machines",
                  "Storage & Organization",
                  "Computer Peripherals",
                  "Pens & Art Supplies",
                  "Labels",
                  "Tables",
                  "Telephones and Communication",
                  "Binders and Binder Accessories",
                  "Copiers and Fax",
                  "Chairs & Chairmats",
                  "Rubber Bands",
                  "Office Furnishings",
                  "Bookcases",
                  "Appliances",
                  "Scissors, Rulers and Trimmers"
                 ],
                 "line": {
                  "color": "black",
                  "width": 0.5
                 },
                 "pad": 15,
                 "thickness": 20
                },
                "type": "sankey"
               }
              ],
              "layout": {
               "font": {
                "size": 10
               },
               "title": "Sales Performances"
              }
             }
            ],
            "label": "East",
            "method": "animate"
           }
          ],
          "direction": "down",
          "pad": {
           "r": 10,
           "t": 10
          },
          "showactive": true,
          "x": 0,
          "y": 0.9
         },
         {
          "buttons": [
           {
            "args": [
             {
              "data": [
               {
                "link": {
                 "source": [
                  5,
                  2,
                  2,
                  2,
                  2,
                  0,
                  0,
                  0,
                  0,
                  7,
                  3,
                  3,
                  3,
                  3,
                  1,
                  1,
                  1,
                  1,
                  6,
                  8,
                  8,
                  8,
                  8,
                  4
                 ],
                 "target": [
                  8,
                  5,
                  7,
                  6,
                  4,
                  5,
                  7,
                  6,
                  4,
                  8,
                  5,
                  7,
                  6,
                  4,
                  5,
                  7,
                  6,
                  4,
                  8,
                  9,
                  12,
                  10,
                  11,
                  8
                 ],
                 "value": [
                  1008355.36,
                  126827.31999999999,
                  187481.9,
                  151107.35,
                  249467.69,
                  478019,
                  309552.84,
                  274360.19,
                  320641.76,
                  847302.84,
                  297389.66,
                  168937.8,
                  133613.29,
                  213599.97,
                  106119.38,
                  181330.3,
                  118053.76000000001,
                  198479.82,
                  677134.59,
                  490840.53,
                  661211.93,
                  1218656.59,
                  1144272.98,
                  982189.24
                 ]
                },
                "node": {
                 "color": [
                  "#4B8BBE",
                  "#4B8BBE",
                  "#4B8BBE",
                  "#4B8BBE",
                  "#306998",
                  "#306998",
                  "#306998",
                  "#306998",
                  "#FFE873",
                  "#FFD43B",
                  "#FFD43B",
                  "#FFD43B",
                  "#FFD43B"
                 ],
                 "label": [
                  "Corporate",
                  "Small Business",
                  "Consumer",
                  "Home Office",
                  "West",
                  "Central",
                  "South",
                  "East",
                  "Technology",
                  "Computer Peripherals",
                  "Office Machines",
                  "Telephones and Communication",
                  "Copiers and Fax"
                 ],
                 "line": {
                  "color": "black",
                  "width": 0.5
                 },
                 "pad": 15,
                 "thickness": 20
                },
                "type": "sankey"
               }
              ],
              "layout": {
               "font": {
                "size": 10
               },
               "title": "Sales Performances"
              }
             }
            ],
            "label": "Technology",
            "method": "animate"
           },
           {
            "args": [
             {
              "data": [
               {
                "link": {
                 "source": [
                  6,
                  2,
                  2,
                  2,
                  2,
                  0,
                  0,
                  0,
                  0,
                  7,
                  8,
                  8,
                  8,
                  8,
                  3,
                  3,
                  3,
                  3,
                  1,
                  1,
                  1,
                  1,
                  5,
                  4
                 ],
                 "target": [
                  8,
                  6,
                  7,
                  5,
                  4,
                  6,
                  7,
                  5,
                  4,
                  8,
                  12,
                  9,
                  11,
                  10,
                  6,
                  7,
                  5,
                  4,
                  6,
                  7,
                  5,
                  4,
                  8,
                  8
                 ],
                 "value": [
                  859217.62,
                  175916.88,
                  186490.44,
                  89238.68000000001,
                  244820.86,
                  341879.03,
                  269576.86,
                  177751.77,
                  360078.01,
                  864063.26,
                  507494.49,
                  1164584.16,
                  444624.03,
                  1061921.06,
                  216125.89,
                  192635.78,
                  186196.38,
                  181973.51,
                  125295.82,
                  215360.18,
                  93074.27,
                  122209.38,
                  546261.1,
                  909081.76
                 ]
                },
                "node": {
                 "color": [
                  "#4B8BBE",
                  "#4B8BBE",
                  "#4B8BBE",
                  "#4B8BBE",
                  "#306998",
                  "#306998",
                  "#306998",
                  "#306998",
                  "#FFE873",
                  "#FFD43B",
                  "#FFD43B",
                  "#FFD43B",
                  "#FFD43B"
                 ],
                 "label": [
                  "Corporate",
                  "Small Business",
                  "Consumer",
                  "Home Office",
                  "West",
                  "South",
                  "Central",
                  "East",
                  "Furniture",
                  "Chairs & Chairmats",
                  "Tables",
                  "Office Furnishings",
                  "Bookcases"
                 ],
                 "line": {
                  "color": "black",
                  "width": 0.5
                 },
                 "pad": 15,
                 "thickness": 20
                },
                "type": "sankey"
               }
              ],
              "layout": {
               "font": {
                "size": 10
               },
               "title": "Sales Performances"
              }
             }
            ],
            "label": "Furniture",
            "method": "animate"
           },
           {
            "args": [
             {
              "data": [
               {
                "link": {
                 "source": [
                  4,
                  2,
                  2,
                  2,
                  2,
                  0,
                  0,
                  0,
                  0,
                  7,
                  3,
                  3,
                  3,
                  3,
                  8,
                  8,
                  8,
                  8,
                  8,
                  8,
                  8,
                  8,
                  8,
                  1,
                  1,
                  1,
                  1,
                  5,
                  6
                 ],
                 "target": [
                  8,
                  4,
                  7,
                  5,
                  6,
                  4,
                  7,
                  5,
                  6,
                  8,
                  4,
                  7,
                  5,
                  6,
                  16,
                  14,
                  9,
                  13,
                  10,
                  12,
                  15,
                  17,
                  11,
                  4,
                  7,
                  5,
                  6,
                  8,
                  8
                 ],
                 "value": [
                  672768.64,
                  101547.51,
                  106832.71,
                  89434.34,
                  126049.54000000001,
                  222585.09,
                  238972.77000000002,
                  117792.45,
                  158181.3,
                  711438.58,
                  195743.68,
                  144758.44,
                  107200.02,
                  130777.61,
                  456723.08,
                  638582.09,
                  147921.03,
                  23449.9,
                  253600.31,
                  103251.59,
                  8663.77,
                  40428.87,
                  585704.91,
                  152892.36000000002,
                  220874.66,
                  59523.72,
                  85159.35,
                  373950.53,
                  500167.8
                 ]
                },
                "node": {
                 "color": [
                  "#4B8BBE",
                  "#4B8BBE",
                  "#4B8BBE",
                  "#4B8BBE",
                  "#306998",
                  "#306998",
                  "#306998",
                  "#306998",
                  "#FFE873",
                  "#FFD43B",
                  "#FFD43B",
                  "#FFD43B",
                  "#FFD43B",
                  "#FFD43B",
                  "#FFD43B",
                  "#FFD43B",
                  "#FFD43B",
                  "#FFD43B"
                 ],
                 "label": [
                  "Corporate",
                  "Small Business",
                  "Consumer",
                  "Home Office",
                  "Central",
                  "South",
                  "West",
                  "East",
                  "Office Supplies",
                  "Envelopes",
                  "Paper",
                  "Storage & Organization",
                  "Pens & Art Supplies",
                  "Labels",
                  "Binders and Binder Accessories",
                  "Rubber Bands",
                  "Appliances",
                  "Scissors, Rulers and Trimmers"
                 ],
                 "line": {
                  "color": "black",
                  "width": 0.5
                 },
                 "pad": 15,
                 "thickness": 20
                },
                "type": "sankey"
               }
              ],
              "layout": {
               "font": {
                "size": 10
               },
               "title": "Sales Performances"
              }
             }
            ],
            "label": "Office Supplies",
            "method": "animate"
           }
          ],
          "direction": "down",
          "pad": {
           "r": 10,
           "t": 10
          },
          "showactive": true,
          "x": 0,
          "y": 0.8
         }
        ]
       }
      },
      "text/html": [
       "<div>                            <div id=\"ae3ec870-6d53-499b-b030-3e0941291ef1\" class=\"plotly-graph-div\" style=\"height:525px; width:100%;\"></div>            <script type=\"text/javascript\">                require([\"plotly\"], function(Plotly) {                    window.PLOTLYENV=window.PLOTLYENV || {};                                    if (document.getElementById(\"ae3ec870-6d53-499b-b030-3e0941291ef1\")) {                    Plotly.newPlot(                        \"ae3ec870-6d53-499b-b030-3e0941291ef1\",                        [{\"link\":{\"source\":[4,4,4,2,2,2,2,0,0,0,0,7,7,7,9,9,9,9,3,3,3,3,8,8,8,8,8,8,8,8,8,1,1,1,1,5,5,5,10,10,10,10,6,6,6],\"target\":[9,8,10,4,7,5,6,4,7,5,6,9,8,10,25,22,24,19,4,7,5,6,26,20,11,17,12,16,23,27,14,4,7,5,6,9,8,10,15,21,13,18,9,8,10],\"value\":[859217.62,672768.64,1008355.36,404291.71,480805.05,329780.37,620338.09,1042483.12,818102.47,569904.41,838901.07,864063.26,711438.58,847302.84,507494.49,1164584.16,444624.03,1061921.06,709259.23,506332.02,427009.69,526351.09,456723.08,638582.09,147921.03,23449.9,253600.31,103251.59,8663.77,40428.87,585704.91,384307.56,617565.14,270651.75,405848.55,546261.1,373950.53,677134.59,490840.53,661211.93,1218656.59,1144272.98,909081.76,500167.8,982189.24]},\"node\":{\"color\":[\"#4B8BBE\",\"#4B8BBE\",\"#4B8BBE\",\"#4B8BBE\",\"#306998\",\"#306998\",\"#306998\",\"#306998\",\"#FFE873\",\"#FFE873\",\"#FFE873\",\"#FFD43B\",\"#FFD43B\",\"#FFD43B\",\"#FFD43B\",\"#FFD43B\",\"#FFD43B\",\"#FFD43B\",\"#FFD43B\",\"#FFD43B\",\"#FFD43B\",\"#FFD43B\",\"#FFD43B\",\"#FFD43B\",\"#FFD43B\",\"#FFD43B\",\"#FFD43B\",\"#FFD43B\"],\"label\":[\"Corporate\",\"Small Business\",\"Consumer\",\"Home Office\",\"Central\",\"South\",\"West\",\"East\",\"Office Supplies\",\"Furniture\",\"Technology\",\"Envelopes\",\"Paper\",\"Office Machines\",\"Storage & Organization\",\"Computer Peripherals\",\"Pens & Art Supplies\",\"Labels\",\"Telephones and Communication\",\"Tables\",\"Binders and Binder Accessories\",\"Copiers and Fax\",\"Chairs & Chairmats\",\"Rubber Bands\",\"Office Furnishings\",\"Bookcases\",\"Appliances\",\"Scissors, Rulers and Trimmers\"],\"line\":{\"color\":\"black\",\"width\":0.5},\"pad\":15,\"thickness\":20},\"type\":\"sankey\"}],                        {\"font\":{\"size\":10},\"title\":{\"text\":\"Sales Performances\"},\"template\":{\"data\":{\"histogram2dcontour\":[{\"type\":\"histogram2dcontour\",\"colorbar\":{\"outlinewidth\":0,\"ticks\":\"\"},\"colorscale\":[[0.0,\"#0d0887\"],[0.1111111111111111,\"#46039f\"],[0.2222222222222222,\"#7201a8\"],[0.3333333333333333,\"#9c179e\"],[0.4444444444444444,\"#bd3786\"],[0.5555555555555556,\"#d8576b\"],[0.6666666666666666,\"#ed7953\"],[0.7777777777777778,\"#fb9f3a\"],[0.8888888888888888,\"#fdca26\"],[1.0,\"#f0f921\"]]}],\"choropleth\":[{\"type\":\"choropleth\",\"colorbar\":{\"outlinewidth\":0,\"ticks\":\"\"}}],\"histogram2d\":[{\"type\":\"histogram2d\",\"colorbar\":{\"outlinewidth\":0,\"ticks\":\"\"},\"colorscale\":[[0.0,\"#0d0887\"],[0.1111111111111111,\"#46039f\"],[0.2222222222222222,\"#7201a8\"],[0.3333333333333333,\"#9c179e\"],[0.4444444444444444,\"#bd3786\"],[0.5555555555555556,\"#d8576b\"],[0.6666666666666666,\"#ed7953\"],[0.7777777777777778,\"#fb9f3a\"],[0.8888888888888888,\"#fdca26\"],[1.0,\"#f0f921\"]]}],\"heatmap\":[{\"type\":\"heatmap\",\"colorbar\":{\"outlinewidth\":0,\"ticks\":\"\"},\"colorscale\":[[0.0,\"#0d0887\"],[0.1111111111111111,\"#46039f\"],[0.2222222222222222,\"#7201a8\"],[0.3333333333333333,\"#9c179e\"],[0.4444444444444444,\"#bd3786\"],[0.5555555555555556,\"#d8576b\"],[0.6666666666666666,\"#ed7953\"],[0.7777777777777778,\"#fb9f3a\"],[0.8888888888888888,\"#fdca26\"],[1.0,\"#f0f921\"]]}],\"heatmapgl\":[{\"type\":\"heatmapgl\",\"colorbar\":{\"outlinewidth\":0,\"ticks\":\"\"},\"colorscale\":[[0.0,\"#0d0887\"],[0.1111111111111111,\"#46039f\"],[0.2222222222222222,\"#7201a8\"],[0.3333333333333333,\"#9c179e\"],[0.4444444444444444,\"#bd3786\"],[0.5555555555555556,\"#d8576b\"],[0.6666666666666666,\"#ed7953\"],[0.7777777777777778,\"#fb9f3a\"],[0.8888888888888888,\"#fdca26\"],[1.0,\"#f0f921\"]]}],\"contourcarpet\":[{\"type\":\"contourcarpet\",\"colorbar\":{\"outlinewidth\":0,\"ticks\":\"\"}}],\"contour\":[{\"type\":\"contour\",\"colorbar\":{\"outlinewidth\":0,\"ticks\":\"\"},\"colorscale\":[[0.0,\"#0d0887\"],[0.1111111111111111,\"#46039f\"],[0.2222222222222222,\"#7201a8\"],[0.3333333333333333,\"#9c179e\"],[0.4444444444444444,\"#bd3786\"],[0.5555555555555556,\"#d8576b\"],[0.6666666666666666,\"#ed7953\"],[0.7777777777777778,\"#fb9f3a\"],[0.8888888888888888,\"#fdca26\"],[1.0,\"#f0f921\"]]}],\"surface\":[{\"type\":\"surface\",\"colorbar\":{\"outlinewidth\":0,\"ticks\":\"\"},\"colorscale\":[[0.0,\"#0d0887\"],[0.1111111111111111,\"#46039f\"],[0.2222222222222222,\"#7201a8\"],[0.3333333333333333,\"#9c179e\"],[0.4444444444444444,\"#bd3786\"],[0.5555555555555556,\"#d8576b\"],[0.6666666666666666,\"#ed7953\"],[0.7777777777777778,\"#fb9f3a\"],[0.8888888888888888,\"#fdca26\"],[1.0,\"#f0f921\"]]}],\"mesh3d\":[{\"type\":\"mesh3d\",\"colorbar\":{\"outlinewidth\":0,\"ticks\":\"\"}}],\"scatter\":[{\"fillpattern\":{\"fillmode\":\"overlay\",\"size\":10,\"solidity\":0.2},\"type\":\"scatter\"}],\"parcoords\":[{\"type\":\"parcoords\",\"line\":{\"colorbar\":{\"outlinewidth\":0,\"ticks\":\"\"}}}],\"scatterpolargl\":[{\"type\":\"scatterpolargl\",\"marker\":{\"colorbar\":{\"outlinewidth\":0,\"ticks\":\"\"}}}],\"bar\":[{\"error_x\":{\"color\":\"#2a3f5f\"},\"error_y\":{\"color\":\"#2a3f5f\"},\"marker\":{\"line\":{\"color\":\"#E5ECF6\",\"width\":0.5},\"pattern\":{\"fillmode\":\"overlay\",\"size\":10,\"solidity\":0.2}},\"type\":\"bar\"}],\"scattergeo\":[{\"type\":\"scattergeo\",\"marker\":{\"colorbar\":{\"outlinewidth\":0,\"ticks\":\"\"}}}],\"scatterpolar\":[{\"type\":\"scatterpolar\",\"marker\":{\"colorbar\":{\"outlinewidth\":0,\"ticks\":\"\"}}}],\"histogram\":[{\"marker\":{\"pattern\":{\"fillmode\":\"overlay\",\"size\":10,\"solidity\":0.2}},\"type\":\"histogram\"}],\"scattergl\":[{\"type\":\"scattergl\",\"marker\":{\"colorbar\":{\"outlinewidth\":0,\"ticks\":\"\"}}}],\"scatter3d\":[{\"type\":\"scatter3d\",\"line\":{\"colorbar\":{\"outlinewidth\":0,\"ticks\":\"\"}},\"marker\":{\"colorbar\":{\"outlinewidth\":0,\"ticks\":\"\"}}}],\"scattermapbox\":[{\"type\":\"scattermapbox\",\"marker\":{\"colorbar\":{\"outlinewidth\":0,\"ticks\":\"\"}}}],\"scatterternary\":[{\"type\":\"scatterternary\",\"marker\":{\"colorbar\":{\"outlinewidth\":0,\"ticks\":\"\"}}}],\"scattercarpet\":[{\"type\":\"scattercarpet\",\"marker\":{\"colorbar\":{\"outlinewidth\":0,\"ticks\":\"\"}}}],\"carpet\":[{\"aaxis\":{\"endlinecolor\":\"#2a3f5f\",\"gridcolor\":\"white\",\"linecolor\":\"white\",\"minorgridcolor\":\"white\",\"startlinecolor\":\"#2a3f5f\"},\"baxis\":{\"endlinecolor\":\"#2a3f5f\",\"gridcolor\":\"white\",\"linecolor\":\"white\",\"minorgridcolor\":\"white\",\"startlinecolor\":\"#2a3f5f\"},\"type\":\"carpet\"}],\"table\":[{\"cells\":{\"fill\":{\"color\":\"#EBF0F8\"},\"line\":{\"color\":\"white\"}},\"header\":{\"fill\":{\"color\":\"#C8D4E3\"},\"line\":{\"color\":\"white\"}},\"type\":\"table\"}],\"barpolar\":[{\"marker\":{\"line\":{\"color\":\"#E5ECF6\",\"width\":0.5},\"pattern\":{\"fillmode\":\"overlay\",\"size\":10,\"solidity\":0.2}},\"type\":\"barpolar\"}],\"pie\":[{\"automargin\":true,\"type\":\"pie\"}]},\"layout\":{\"autotypenumbers\":\"strict\",\"colorway\":[\"#636efa\",\"#EF553B\",\"#00cc96\",\"#ab63fa\",\"#FFA15A\",\"#19d3f3\",\"#FF6692\",\"#B6E880\",\"#FF97FF\",\"#FECB52\"],\"font\":{\"color\":\"#2a3f5f\"},\"hovermode\":\"closest\",\"hoverlabel\":{\"align\":\"left\"},\"paper_bgcolor\":\"white\",\"plot_bgcolor\":\"#E5ECF6\",\"polar\":{\"bgcolor\":\"#E5ECF6\",\"angularaxis\":{\"gridcolor\":\"white\",\"linecolor\":\"white\",\"ticks\":\"\"},\"radialaxis\":{\"gridcolor\":\"white\",\"linecolor\":\"white\",\"ticks\":\"\"}},\"ternary\":{\"bgcolor\":\"#E5ECF6\",\"aaxis\":{\"gridcolor\":\"white\",\"linecolor\":\"white\",\"ticks\":\"\"},\"baxis\":{\"gridcolor\":\"white\",\"linecolor\":\"white\",\"ticks\":\"\"},\"caxis\":{\"gridcolor\":\"white\",\"linecolor\":\"white\",\"ticks\":\"\"}},\"coloraxis\":{\"colorbar\":{\"outlinewidth\":0,\"ticks\":\"\"}},\"colorscale\":{\"sequential\":[[0.0,\"#0d0887\"],[0.1111111111111111,\"#46039f\"],[0.2222222222222222,\"#7201a8\"],[0.3333333333333333,\"#9c179e\"],[0.4444444444444444,\"#bd3786\"],[0.5555555555555556,\"#d8576b\"],[0.6666666666666666,\"#ed7953\"],[0.7777777777777778,\"#fb9f3a\"],[0.8888888888888888,\"#fdca26\"],[1.0,\"#f0f921\"]],\"sequentialminus\":[[0.0,\"#0d0887\"],[0.1111111111111111,\"#46039f\"],[0.2222222222222222,\"#7201a8\"],[0.3333333333333333,\"#9c179e\"],[0.4444444444444444,\"#bd3786\"],[0.5555555555555556,\"#d8576b\"],[0.6666666666666666,\"#ed7953\"],[0.7777777777777778,\"#fb9f3a\"],[0.8888888888888888,\"#fdca26\"],[1.0,\"#f0f921\"]],\"diverging\":[[0,\"#8e0152\"],[0.1,\"#c51b7d\"],[0.2,\"#de77ae\"],[0.3,\"#f1b6da\"],[0.4,\"#fde0ef\"],[0.5,\"#f7f7f7\"],[0.6,\"#e6f5d0\"],[0.7,\"#b8e186\"],[0.8,\"#7fbc41\"],[0.9,\"#4d9221\"],[1,\"#276419\"]]},\"xaxis\":{\"gridcolor\":\"white\",\"linecolor\":\"white\",\"ticks\":\"\",\"title\":{\"standoff\":15},\"zerolinecolor\":\"white\",\"automargin\":true,\"zerolinewidth\":2},\"yaxis\":{\"gridcolor\":\"white\",\"linecolor\":\"white\",\"ticks\":\"\",\"title\":{\"standoff\":15},\"zerolinecolor\":\"white\",\"automargin\":true,\"zerolinewidth\":2},\"scene\":{\"xaxis\":{\"backgroundcolor\":\"#E5ECF6\",\"gridcolor\":\"white\",\"linecolor\":\"white\",\"showbackground\":true,\"ticks\":\"\",\"zerolinecolor\":\"white\",\"gridwidth\":2},\"yaxis\":{\"backgroundcolor\":\"#E5ECF6\",\"gridcolor\":\"white\",\"linecolor\":\"white\",\"showbackground\":true,\"ticks\":\"\",\"zerolinecolor\":\"white\",\"gridwidth\":2},\"zaxis\":{\"backgroundcolor\":\"#E5ECF6\",\"gridcolor\":\"white\",\"linecolor\":\"white\",\"showbackground\":true,\"ticks\":\"\",\"zerolinecolor\":\"white\",\"gridwidth\":2}},\"shapedefaults\":{\"line\":{\"color\":\"#2a3f5f\"}},\"annotationdefaults\":{\"arrowcolor\":\"#2a3f5f\",\"arrowhead\":0,\"arrowwidth\":1},\"geo\":{\"bgcolor\":\"white\",\"landcolor\":\"#E5ECF6\",\"subunitcolor\":\"white\",\"showland\":true,\"showlakes\":true,\"lakecolor\":\"white\"},\"title\":{\"x\":0.05},\"mapbox\":{\"style\":\"light\"}}},\"updatemenus\":[{\"buttons\":[{\"args\":[{\"data\":[{\"type\":\"sankey\",\"node\":{\"pad\":15,\"thickness\":20,\"line\":{\"color\":\"black\",\"width\":0.5},\"label\":[\"Corporate\",\"Small Business\",\"Consumer\",\"Home Office\",\"Central\",\"South\",\"West\",\"East\",\"Office Supplies\",\"Furniture\",\"Technology\",\"Envelopes\",\"Paper\",\"Office Machines\",\"Storage & Organization\",\"Computer Peripherals\",\"Pens & Art Supplies\",\"Labels\",\"Telephones and Communication\",\"Tables\",\"Binders and Binder Accessories\",\"Copiers and Fax\",\"Chairs & Chairmats\",\"Rubber Bands\",\"Office Furnishings\",\"Bookcases\",\"Appliances\",\"Scissors, Rulers and Trimmers\"],\"color\":[\"#4B8BBE\",\"#4B8BBE\",\"#4B8BBE\",\"#4B8BBE\",\"#306998\",\"#306998\",\"#306998\",\"#306998\",\"#FFE873\",\"#FFE873\",\"#FFE873\",\"#FFD43B\",\"#FFD43B\",\"#FFD43B\",\"#FFD43B\",\"#FFD43B\",\"#FFD43B\",\"#FFD43B\",\"#FFD43B\",\"#FFD43B\",\"#FFD43B\",\"#FFD43B\",\"#FFD43B\",\"#FFD43B\",\"#FFD43B\",\"#FFD43B\",\"#FFD43B\",\"#FFD43B\"]},\"link\":{\"source\":[4,4,4,2,2,2,2,0,0,0,0,7,7,7,9,9,9,9,3,3,3,3,8,8,8,8,8,8,8,8,8,1,1,1,1,5,5,5,10,10,10,10,6,6,6],\"target\":[9,8,10,4,7,5,6,4,7,5,6,9,8,10,25,22,24,19,4,7,5,6,26,20,11,17,12,16,23,27,14,4,7,5,6,9,8,10,15,21,13,18,9,8,10],\"value\":[859217.62,672768.64,1008355.36,404291.71,480805.05,329780.37,620338.09,1042483.12,818102.47,569904.41,838901.07,864063.26,711438.58,847302.84,507494.49,1164584.16,444624.03,1061921.06,709259.23,506332.02,427009.69,526351.09,456723.08,638582.09,147921.03,23449.9,253600.31,103251.59,8663.77,40428.87,585704.91,384307.56,617565.14,270651.75,405848.55,546261.1,373950.53,677134.59,490840.53,661211.93,1218656.59,1144272.98,909081.76,500167.8,982189.24]}}],\"layout\":{\"title\":\"Sales Performances\",\"font\":{\"size\":10}}}],\"label\":\"All\",\"method\":\"animate\"}],\"direction\":\"left\",\"pad\":{\"r\":10,\"t\":10},\"showactive\":true,\"type\":\"buttons\",\"x\":0,\"y\":1.1},{\"buttons\":[{\"args\":[{\"data\":[{\"type\":\"sankey\",\"node\":{\"pad\":15,\"thickness\":20,\"line\":{\"color\":\"black\",\"width\":0.5},\"label\":[\"Corporate\",\"Central\",\"South\",\"West\",\"East\",\"Office Supplies\",\"Furniture\",\"Technology\",\"Envelopes\",\"Paper\",\"Office Machines\",\"Storage & Organization\",\"Computer Peripherals\",\"Pens & Art Supplies\",\"Labels\",\"Telephones and Communication\",\"Tables\",\"Copiers and Fax\",\"Binders and Binder Accessories\",\"Chairs & Chairmats\",\"Rubber Bands\",\"Office Furnishings\",\"Bookcases\",\"Appliances\",\"Scissors, Rulers and Trimmers\"],\"color\":[\"#4B8BBE\",\"#306998\",\"#306998\",\"#306998\",\"#306998\",\"#FFE873\",\"#FFE873\",\"#FFE873\",\"#FFD43B\",\"#FFD43B\",\"#FFD43B\",\"#FFD43B\",\"#FFD43B\",\"#FFD43B\",\"#FFD43B\",\"#FFD43B\",\"#FFD43B\",\"#FFD43B\",\"#FFD43B\",\"#FFD43B\",\"#FFD43B\",\"#FFD43B\",\"#FFD43B\",\"#FFD43B\",\"#FFD43B\"]},\"link\":{\"source\":[1,1,1,0,0,0,0,4,4,4,6,6,6,6,5,5,5,5,5,5,5,5,5,2,2,2,7,7,7,7,3,3,3],\"target\":[6,5,7,1,4,2,3,6,5,7,22,19,21,16,23,18,8,14,9,13,20,24,11,6,5,7,12,17,10,15,6,5,7],\"value\":[341879.03,222585.09,478019.0,1042483.12,818102.47,569904.41,838901.07,269576.86,238972.77000000002,309552.84,262084.57,407719.86,115501.84,363979.4,167939.55,225155.09,44463.41,7927.73,89309.0,35997.35,2193.82,9625.34,154920.32,177751.77,117792.45,274360.19,224139.25,205637.59,516519.79,436277.16,360078.01,158181.3,320641.76]}}],\"layout\":{\"title\":\"Sales Performances\",\"font\":{\"size\":10}}}],\"label\":\"Corporate\",\"method\":\"animate\"},{\"args\":[{\"data\":[{\"type\":\"sankey\",\"node\":{\"pad\":15,\"thickness\":20,\"line\":{\"color\":\"black\",\"width\":0.5},\"label\":[\"Home Office\",\"West\",\"South\",\"Central\",\"East\",\"Office Supplies\",\"Furniture\",\"Technology\",\"Envelopes\",\"Paper\",\"Office Machines\",\"Storage & Organization\",\"Computer Peripherals\",\"Pens & Art Supplies\",\"Telephones and Communication\",\"Tables\",\"Binders and Binder Accessories\",\"Labels\",\"Copiers and Fax\",\"Chairs & Chairmats\",\"Rubber Bands\",\"Office Furnishings\",\"Bookcases\",\"Appliances\",\"Scissors, Rulers and Trimmers\"],\"color\":[\"#4B8BBE\",\"#306998\",\"#306998\",\"#306998\",\"#306998\",\"#FFE873\",\"#FFE873\",\"#FFE873\",\"#FFD43B\",\"#FFD43B\",\"#FFD43B\",\"#FFD43B\",\"#FFD43B\",\"#FFD43B\",\"#FFD43B\",\"#FFD43B\",\"#FFD43B\",\"#FFD43B\",\"#FFD43B\",\"#FFD43B\",\"#FFD43B\",\"#FFD43B\",\"#FFD43B\",\"#FFD43B\",\"#FFD43B\"]},\"link\":{\"source\":[3,3,3,4,4,4,6,6,6,6,0,0,0,0,5,5,5,5,5,5,5,5,5,2,2,2,7,7,7,7,1,1,1],\"target\":[6,5,7,6,5,7,22,19,21,15,3,4,2,1,23,16,8,17,9,13,20,24,11,6,5,7,12,18,10,14,6,5,7],\"value\":[216125.89,195743.68,297389.66,192635.78,144758.44,168937.8,79403.98,212833.69,197185.43,287508.46,709259.23,506332.02,427009.69,526351.09,124754.4,148470.69,22580.42,5410.42,61117.18,21761.26,2292.0299999999997,12946.26,179147.09,186196.38,107200.02,133613.29,110841.16,174716.95,245018.28,282964.33,181973.51,130777.61,213599.97]}}],\"layout\":{\"title\":\"Sales Performances\",\"font\":{\"size\":10}}}],\"label\":\"Home Office\",\"method\":\"animate\"},{\"args\":[{\"data\":[{\"type\":\"sankey\",\"node\":{\"pad\":15,\"thickness\":20,\"line\":{\"color\":\"black\",\"width\":0.5},\"label\":[\"Consumer\",\"West\",\"South\",\"Central\",\"East\",\"Office Supplies\",\"Furniture\",\"Technology\",\"Envelopes\",\"Paper\",\"Office Machines\",\"Storage & Organization\",\"Computer Peripherals\",\"Binders and Binder Accessories\",\"Telephones and Communication\",\"Tables\",\"Pens & Art Supplies\",\"Labels\",\"Copiers and Fax\",\"Chairs & Chairmats\",\"Rubber Bands\",\"Office Furnishings\",\"Bookcases\",\"Appliances\",\"Scissors, Rulers and Trimmers\"],\"color\":[\"#4B8BBE\",\"#306998\",\"#306998\",\"#306998\",\"#306998\",\"#FFE873\",\"#FFE873\",\"#FFE873\",\"#FFD43B\",\"#FFD43B\",\"#FFD43B\",\"#FFD43B\",\"#FFD43B\",\"#FFD43B\",\"#FFD43B\",\"#FFD43B\",\"#FFD43B\",\"#FFD43B\",\"#FFD43B\",\"#FFD43B\",\"#FFD43B\",\"#FFD43B\",\"#FFD43B\",\"#FFD43B\",\"#FFD43B\"]},\"link\":{\"source\":[3,3,3,0,0,0,0,4,4,4,6,6,6,6,5,5,5,5,5,5,5,5,5,2,2,2,7,7,7,7,1,1,1],\"target\":[6,5,7,3,4,2,1,6,5,7,22,19,21,15,23,13,8,17,9,16,20,24,11,6,5,7,12,18,10,14,6,5,7],\"value\":[175916.88,101547.51,126827.31999999999,404291.71,480805.05,329780.37,620338.09,186490.44,106832.71,187481.9,92623.79000000001,305381.3,69529.19,228932.58,63808.0,103628.89,37643.82,3713.7000000000003,53001.11,24023.190000000002,1708.42,14625.93,121711.04,89238.68000000001,89434.34,151107.35,80799.62,148503.63999999998,260009.96,225571.04,244820.86,126049.54000000001,249467.69]}}],\"layout\":{\"title\":\"Sales Performances\",\"font\":{\"size\":10}}}],\"label\":\"Consumer\",\"method\":\"animate\"},{\"args\":[{\"data\":[{\"type\":\"sankey\",\"node\":{\"pad\":15,\"thickness\":20,\"line\":{\"color\":\"black\",\"width\":0.5},\"label\":[\"Small Business\",\"Central\",\"South\",\"West\",\"East\",\"Office Supplies\",\"Furniture\",\"Technology\",\"Envelopes\",\"Paper\",\"Office Machines\",\"Storage & Organization\",\"Computer Peripherals\",\"Pens & Art Supplies\",\"Labels\",\"Telephones and Communication\",\"Binders and Binder Accessories\",\"Tables\",\"Copiers and Fax\",\"Chairs & Chairmats\",\"Rubber Bands\",\"Office Furnishings\",\"Bookcases\",\"Appliances\",\"Scissors, Rulers and Trimmers\"],\"color\":[\"#4B8BBE\",\"#306998\",\"#306998\",\"#306998\",\"#306998\",\"#FFE873\",\"#FFE873\",\"#FFE873\",\"#FFD43B\",\"#FFD43B\",\"#FFD43B\",\"#FFD43B\",\"#FFD43B\",\"#FFD43B\",\"#FFD43B\",\"#FFD43B\",\"#FFD43B\",\"#FFD43B\",\"#FFD43B\",\"#FFD43B\",\"#FFD43B\",\"#FFD43B\",\"#FFD43B\",\"#FFD43B\",\"#FFD43B\"]},\"link\":{\"source\":[1,1,1,4,4,4,6,6,6,6,5,5,5,5,5,5,5,5,5,0,0,0,0,2,2,2,7,7,7,7,3,3,3],\"target\":[6,5,7,6,5,7,22,19,21,17,23,16,8,14,9,13,20,24,11,1,4,2,3,6,5,7,12,18,10,15,6,5,7],\"value\":[125295.82,152892.36000000002,106119.38,215360.18,220874.66,181330.3,73382.15,238649.31,62407.57,181500.62,100221.13,161327.42,43233.38,6398.05,50173.020000000004,21469.79,2469.5,3231.34,129926.46,384307.56,617565.14,270651.75,405848.55,93074.27,59523.72,118053.76000000001,75060.5,132353.75,197108.56,199460.45,122209.38,85159.35,198479.82]}}],\"layout\":{\"title\":\"Sales Performances\",\"font\":{\"size\":10}}}],\"label\":\"Small Business\",\"method\":\"animate\"}],\"direction\":\"down\",\"pad\":{\"r\":10,\"t\":10},\"showactive\":true,\"x\":0,\"y\":1},{\"buttons\":[{\"args\":[{\"data\":[{\"type\":\"sankey\",\"node\":{\"pad\":15,\"thickness\":20,\"line\":{\"color\":\"black\",\"width\":0.5},\"label\":[\"Corporate\",\"Home Office\",\"Consumer\",\"Small Business\",\"Central\",\"Office Supplies\",\"Furniture\",\"Technology\",\"Envelopes\",\"Paper\",\"Office Machines\",\"Storage & Organization\",\"Computer Peripherals\",\"Pens & Art Supplies\",\"Labels\",\"Tables\",\"Telephones and Communication\",\"Binders and Binder Accessories\",\"Copiers and Fax\",\"Chairs & Chairmats\",\"Rubber Bands\",\"Office Furnishings\",\"Bookcases\",\"Appliances\",\"Scissors, Rulers and Trimmers\"],\"color\":[\"#4B8BBE\",\"#4B8BBE\",\"#4B8BBE\",\"#4B8BBE\",\"#306998\",\"#FFE873\",\"#FFE873\",\"#FFE873\",\"#FFD43B\",\"#FFD43B\",\"#FFD43B\",\"#FFD43B\",\"#FFD43B\",\"#FFD43B\",\"#FFD43B\",\"#FFD43B\",\"#FFD43B\",\"#FFD43B\",\"#FFD43B\",\"#FFD43B\",\"#FFD43B\",\"#FFD43B\",\"#FFD43B\",\"#FFD43B\",\"#FFD43B\"]},\"link\":{\"source\":[4,4,4,2,0,6,6,6,6,1,5,5,5,5,5,5,5,5,5,3,7,7,7,7],\"target\":[6,5,7,4,4,22,19,21,15,4,23,17,8,14,9,13,20,24,11,4,12,18,10,16],\"value\":[859217.62,672768.64,1008355.36,404291.71,1042483.12,117583.29000000001,327909.58,135556.38,278168.37,709259.23,169845.36000000002,188990.69,29006.309999999998,7109.35,69784.83,25346.38,2847.27,18071.74,161766.71,384307.56,131915.62,214366.22,315993.24,346080.27999999997]}}],\"layout\":{\"title\":\"Sales Performances\",\"font\":{\"size\":10}}}],\"label\":\"Central\",\"method\":\"animate\"},{\"args\":[{\"data\":[{\"type\":\"sankey\",\"node\":{\"pad\":15,\"thickness\":20,\"line\":{\"color\":\"black\",\"width\":0.5},\"label\":[\"Corporate\",\"Small Business\",\"Consumer\",\"Home Office\",\"West\",\"Office Supplies\",\"Furniture\",\"Technology\",\"Envelopes\",\"Paper\",\"Office Machines\",\"Storage & Organization\",\"Computer Peripherals\",\"Pens & Art Supplies\",\"Telephones and Communication\",\"Binders and Binder Accessories\",\"Labels\",\"Tables\",\"Copiers and Fax\",\"Chairs & Chairmats\",\"Rubber Bands\",\"Office Furnishings\",\"Bookcases\",\"Appliances\",\"Scissors, Rulers and Trimmers\"],\"color\":[\"#4B8BBE\",\"#4B8BBE\",\"#4B8BBE\",\"#4B8BBE\",\"#306998\",\"#FFE873\",\"#FFE873\",\"#FFE873\",\"#FFD43B\",\"#FFD43B\",\"#FFD43B\",\"#FFD43B\",\"#FFD43B\",\"#FFD43B\",\"#FFD43B\",\"#FFD43B\",\"#FFD43B\",\"#FFD43B\",\"#FFD43B\",\"#FFD43B\",\"#FFD43B\",\"#FFD43B\",\"#FFD43B\",\"#FFD43B\",\"#FFD43B\"]},\"link\":{\"source\":[2,0,6,6,6,6,3,5,5,5,5,5,5,5,5,5,1,7,7,7,7,4,4,4],\"target\":[4,4,22,19,21,17,4,23,15,8,16,9,13,20,24,11,4,12,18,10,14,6,5,7],\"value\":[620338.09,838901.07,222307.39,294988.27,126704.85,265081.25,526351.09,77514.2,90367.14,50825.54,4625.86,61521.83,29855.29,2197.4,15411.18,167849.36,405848.55,91254.34,203680.56,396060.36,291193.98,909081.76,500167.8,982189.24]}}],\"layout\":{\"title\":\"Sales Performances\",\"font\":{\"size\":10}}}],\"label\":\"West\",\"method\":\"animate\"},{\"args\":[{\"data\":[{\"type\":\"sankey\",\"node\":{\"pad\":15,\"thickness\":20,\"line\":{\"color\":\"black\",\"width\":0.5},\"label\":[\"Corporate\",\"Small Business\",\"Consumer\",\"Home Office\",\"South\",\"Office Supplies\",\"Furniture\",\"Technology\",\"Envelopes\",\"Paper\",\"Office Machines\",\"Storage & Organization\",\"Computer Peripherals\",\"Pens & Art Supplies\",\"Telephones and Communication\",\"Labels\",\"Binders and Binder Accessories\",\"Tables\",\"Copiers and Fax\",\"Chairs & Chairmats\",\"Rubber Bands\",\"Office Furnishings\",\"Bookcases\",\"Appliances\",\"Scissors, Rulers and Trimmers\"],\"color\":[\"#4B8BBE\",\"#4B8BBE\",\"#4B8BBE\",\"#4B8BBE\",\"#306998\",\"#FFE873\",\"#FFE873\",\"#FFE873\",\"#FFD43B\",\"#FFD43B\",\"#FFD43B\",\"#FFD43B\",\"#FFD43B\",\"#FFD43B\",\"#FFD43B\",\"#FFD43B\",\"#FFD43B\",\"#FFD43B\",\"#FFD43B\",\"#FFD43B\",\"#FFD43B\",\"#FFD43B\",\"#FFD43B\",\"#FFD43B\",\"#FFD43B\"]},\"link\":{\"source\":[2,0,6,6,6,6,3,5,5,5,5,5,5,5,5,5,1,4,4,4,7,7,7,7],\"target\":[4,4,22,19,21,17,4,23,16,8,15,9,13,20,24,11,4,6,5,7,12,18,10,14],\"value\":[329780.37,569904.41,83301.5,161498.55,87378.65,214082.4,427009.69,74777.71,107957.32,15017.21,5481.32,51753.3,15176.710000000001,1189.21,4383.28,98214.47,270651.75,546261.1,373950.53,677134.59,133718.62,78565.08,279525.09,185325.8]}}],\"layout\":{\"title\":\"Sales Performances\",\"font\":{\"size\":10}}}],\"label\":\"South\",\"method\":\"animate\"},{\"args\":[{\"data\":[{\"type\":\"sankey\",\"node\":{\"pad\":15,\"thickness\":20,\"line\":{\"color\":\"black\",\"width\":0.5},\"label\":[\"Corporate\",\"Small Business\",\"Consumer\",\"Home Office\",\"East\",\"Office Supplies\",\"Furniture\",\"Technology\",\"Envelopes\",\"Paper\",\"Office Machines\",\"Storage & Organization\",\"Computer Peripherals\",\"Pens & Art Supplies\",\"Labels\",\"Tables\",\"Telephones and Communication\",\"Binders and Binder Accessories\",\"Copiers and Fax\",\"Chairs & Chairmats\",\"Rubber Bands\",\"Office Furnishings\",\"Bookcases\",\"Appliances\",\"Scissors, Rulers and Trimmers\"],\"color\":[\"#4B8BBE\",\"#4B8BBE\",\"#4B8BBE\",\"#4B8BBE\",\"#306998\",\"#FFE873\",\"#FFE873\",\"#FFE873\",\"#FFD43B\",\"#FFD43B\",\"#FFD43B\",\"#FFD43B\",\"#FFD43B\",\"#FFD43B\",\"#FFD43B\",\"#FFD43B\",\"#FFD43B\",\"#FFD43B\",\"#FFD43B\",\"#FFD43B\",\"#FFD43B\",\"#FFD43B\",\"#FFD43B\",\"#FFD43B\",\"#FFD43B\"]},\"link\":{\"source\":[2,0,4,4,4,6,6,6,6,3,5,5,5,5,5,5,5,5,5,1,7,7,7,7],\"target\":[4,4,6,5,7,22,19,21,15,4,23,17,8,14,9,13,20,24,11,4,12,18,10,16],\"value\":[480805.05,818102.47,864063.26,711438.58,847302.84,84302.31,380187.76,94984.15,304589.04,506332.02,134585.81,251266.94,53071.97,6233.37,70540.35,32873.21,2429.89,2562.67,157874.37,617565.14,133951.95,164600.07,227077.9,321672.92]}}],\"layout\":{\"title\":\"Sales Performances\",\"font\":{\"size\":10}}}],\"label\":\"East\",\"method\":\"animate\"}],\"direction\":\"down\",\"pad\":{\"r\":10,\"t\":10},\"showactive\":true,\"x\":0,\"y\":0.9},{\"buttons\":[{\"args\":[{\"data\":[{\"type\":\"sankey\",\"node\":{\"pad\":15,\"thickness\":20,\"line\":{\"color\":\"black\",\"width\":0.5},\"label\":[\"Corporate\",\"Small Business\",\"Consumer\",\"Home Office\",\"West\",\"Central\",\"South\",\"East\",\"Technology\",\"Computer Peripherals\",\"Office Machines\",\"Telephones and Communication\",\"Copiers and Fax\"],\"color\":[\"#4B8BBE\",\"#4B8BBE\",\"#4B8BBE\",\"#4B8BBE\",\"#306998\",\"#306998\",\"#306998\",\"#306998\",\"#FFE873\",\"#FFD43B\",\"#FFD43B\",\"#FFD43B\",\"#FFD43B\"]},\"link\":{\"source\":[5,2,2,2,2,0,0,0,0,7,3,3,3,3,1,1,1,1,6,8,8,8,8,4],\"target\":[8,5,7,6,4,5,7,6,4,8,5,7,6,4,5,7,6,4,8,9,12,10,11,8],\"value\":[1008355.36,126827.31999999999,187481.9,151107.35,249467.69,478019.0,309552.84,274360.19,320641.76,847302.84,297389.66,168937.8,133613.29,213599.97,106119.38,181330.3,118053.76000000001,198479.82,677134.59,490840.53,661211.93,1218656.59,1144272.98,982189.24]}}],\"layout\":{\"title\":\"Sales Performances\",\"font\":{\"size\":10}}}],\"label\":\"Technology\",\"method\":\"animate\"},{\"args\":[{\"data\":[{\"type\":\"sankey\",\"node\":{\"pad\":15,\"thickness\":20,\"line\":{\"color\":\"black\",\"width\":0.5},\"label\":[\"Corporate\",\"Small Business\",\"Consumer\",\"Home Office\",\"West\",\"South\",\"Central\",\"East\",\"Furniture\",\"Chairs & Chairmats\",\"Tables\",\"Office Furnishings\",\"Bookcases\"],\"color\":[\"#4B8BBE\",\"#4B8BBE\",\"#4B8BBE\",\"#4B8BBE\",\"#306998\",\"#306998\",\"#306998\",\"#306998\",\"#FFE873\",\"#FFD43B\",\"#FFD43B\",\"#FFD43B\",\"#FFD43B\"]},\"link\":{\"source\":[6,2,2,2,2,0,0,0,0,7,8,8,8,8,3,3,3,3,1,1,1,1,5,4],\"target\":[8,6,7,5,4,6,7,5,4,8,12,9,11,10,6,7,5,4,6,7,5,4,8,8],\"value\":[859217.62,175916.88,186490.44,89238.68000000001,244820.86,341879.03,269576.86,177751.77,360078.01,864063.26,507494.49,1164584.16,444624.03,1061921.06,216125.89,192635.78,186196.38,181973.51,125295.82,215360.18,93074.27,122209.38,546261.1,909081.76]}}],\"layout\":{\"title\":\"Sales Performances\",\"font\":{\"size\":10}}}],\"label\":\"Furniture\",\"method\":\"animate\"},{\"args\":[{\"data\":[{\"type\":\"sankey\",\"node\":{\"pad\":15,\"thickness\":20,\"line\":{\"color\":\"black\",\"width\":0.5},\"label\":[\"Corporate\",\"Small Business\",\"Consumer\",\"Home Office\",\"Central\",\"South\",\"West\",\"East\",\"Office Supplies\",\"Envelopes\",\"Paper\",\"Storage & Organization\",\"Pens & Art Supplies\",\"Labels\",\"Binders and Binder Accessories\",\"Rubber Bands\",\"Appliances\",\"Scissors, Rulers and Trimmers\"],\"color\":[\"#4B8BBE\",\"#4B8BBE\",\"#4B8BBE\",\"#4B8BBE\",\"#306998\",\"#306998\",\"#306998\",\"#306998\",\"#FFE873\",\"#FFD43B\",\"#FFD43B\",\"#FFD43B\",\"#FFD43B\",\"#FFD43B\",\"#FFD43B\",\"#FFD43B\",\"#FFD43B\",\"#FFD43B\"]},\"link\":{\"source\":[4,2,2,2,2,0,0,0,0,7,3,3,3,3,8,8,8,8,8,8,8,8,8,1,1,1,1,5,6],\"target\":[8,4,7,5,6,4,7,5,6,8,4,7,5,6,16,14,9,13,10,12,15,17,11,4,7,5,6,8,8],\"value\":[672768.64,101547.51,106832.71,89434.34,126049.54000000001,222585.09,238972.77000000002,117792.45,158181.3,711438.58,195743.68,144758.44,107200.02,130777.61,456723.08,638582.09,147921.03,23449.9,253600.31,103251.59,8663.77,40428.87,585704.91,152892.36000000002,220874.66,59523.72,85159.35,373950.53,500167.8]}}],\"layout\":{\"title\":\"Sales Performances\",\"font\":{\"size\":10}}}],\"label\":\"Office Supplies\",\"method\":\"animate\"}],\"direction\":\"down\",\"pad\":{\"r\":10,\"t\":10},\"showactive\":true,\"x\":0,\"y\":0.8}]},                        {\"responsive\": true}                    ).then(function(){\n",
       "                            \n",
       "var gd = document.getElementById('ae3ec870-6d53-499b-b030-3e0941291ef1');\n",
       "var x = new MutationObserver(function (mutations, observer) {{\n",
       "        var display = window.getComputedStyle(gd).display;\n",
       "        if (!display || display === 'none') {{\n",
       "            console.log([gd, 'removed!']);\n",
       "            Plotly.purge(gd);\n",
       "            observer.disconnect();\n",
       "        }}\n",
       "}});\n",
       "\n",
       "// Listen for the removal of the full notebook cells\n",
       "var notebookContainer = gd.closest('#notebook-container');\n",
       "if (notebookContainer) {{\n",
       "    x.observe(notebookContainer, {childList: true});\n",
       "}}\n",
       "\n",
       "// Listen for the clearing of the current output cell\n",
       "var outputEl = gd.closest('.output');\n",
       "if (outputEl) {{\n",
       "    x.observe(outputEl, {childList: true});\n",
       "}}\n",
       "\n",
       "                        })                };                });            </script>        </div>"
      ]
     },
     "metadata": {},
     "output_type": "display_data"
    }
   ],
   "source": [
    "# update layout with buttons, and show the figure\n",
    "sank = genSankey(df,cat_cols=['Customer Segment','Region','Product Category','Product Sub-Category'],value_cols='Sales',title='Sales Performances')\n",
    "fig = go.Figure(sank)\n",
    "fig.update_layout(updatemenus=updatemenus)\n",
    "fig.show()"
   ]
  }
 ],
 "metadata": {
  "kernelspec": {
   "display_name": "Python 3 (ipykernel)",
   "language": "python",
   "name": "python3"
  },
  "language_info": {
   "codemirror_mode": {
    "name": "ipython",
    "version": 3
   },
   "file_extension": ".py",
   "mimetype": "text/x-python",
   "name": "python",
   "nbconvert_exporter": "python",
   "pygments_lexer": "ipython3",
   "version": "3.10.6"
  }
 },
 "nbformat": 4,
 "nbformat_minor": 5
}
